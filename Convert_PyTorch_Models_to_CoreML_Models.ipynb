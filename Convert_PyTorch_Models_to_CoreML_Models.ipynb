{
  "nbformat": 4,
  "nbformat_minor": 0,
  "metadata": {
    "colab": {
      "provenance": [],
      "collapsed_sections": [
        "IPhpf45ZdD8g",
        "f6W6rti2WUUb"
      ]
    },
    "kernelspec": {
      "name": "python3",
      "display_name": "Python 3"
    },
    "language_info": {
      "name": "python"
    },
    "widgets": {
      "application/vnd.jupyter.widget-state+json": {
        "54ebf3eb14e1439da38da35d20cd4097": {
          "model_module": "@jupyter-widgets/controls",
          "model_name": "HBoxModel",
          "model_module_version": "1.5.0",
          "state": {
            "_dom_classes": [],
            "_model_module": "@jupyter-widgets/controls",
            "_model_module_version": "1.5.0",
            "_model_name": "HBoxModel",
            "_view_count": null,
            "_view_module": "@jupyter-widgets/controls",
            "_view_module_version": "1.5.0",
            "_view_name": "HBoxView",
            "box_style": "",
            "children": [
              "IPY_MODEL_88732ef5aae640ebb97630451b70c688",
              "IPY_MODEL_bb21f156dae441a7aadbac3b747a5f29",
              "IPY_MODEL_e363356591364822aaf2d7ff958154a1"
            ],
            "layout": "IPY_MODEL_624da9578ca44d47a2604d0c168ce212"
          }
        },
        "88732ef5aae640ebb97630451b70c688": {
          "model_module": "@jupyter-widgets/controls",
          "model_name": "HTMLModel",
          "model_module_version": "1.5.0",
          "state": {
            "_dom_classes": [],
            "_model_module": "@jupyter-widgets/controls",
            "_model_module_version": "1.5.0",
            "_model_name": "HTMLModel",
            "_view_count": null,
            "_view_module": "@jupyter-widgets/controls",
            "_view_module_version": "1.5.0",
            "_view_name": "HTMLView",
            "description": "",
            "description_tooltip": null,
            "layout": "IPY_MODEL_cd578717e7b548068b3b72da41068b9d",
            "placeholder": "​",
            "style": "IPY_MODEL_4de2e05f022c44fea6e68a07648e8796",
            "value": "tokenizer_config.json: 100%"
          }
        },
        "bb21f156dae441a7aadbac3b747a5f29": {
          "model_module": "@jupyter-widgets/controls",
          "model_name": "FloatProgressModel",
          "model_module_version": "1.5.0",
          "state": {
            "_dom_classes": [],
            "_model_module": "@jupyter-widgets/controls",
            "_model_module_version": "1.5.0",
            "_model_name": "FloatProgressModel",
            "_view_count": null,
            "_view_module": "@jupyter-widgets/controls",
            "_view_module_version": "1.5.0",
            "_view_name": "ProgressView",
            "bar_style": "success",
            "description": "",
            "description_tooltip": null,
            "layout": "IPY_MODEL_0e73982ce0194266a1ec4811eb672911",
            "max": 48,
            "min": 0,
            "orientation": "horizontal",
            "style": "IPY_MODEL_190d04d15fde4d5d8ad7da9e104d1d7f",
            "value": 48
          }
        },
        "e363356591364822aaf2d7ff958154a1": {
          "model_module": "@jupyter-widgets/controls",
          "model_name": "HTMLModel",
          "model_module_version": "1.5.0",
          "state": {
            "_dom_classes": [],
            "_model_module": "@jupyter-widgets/controls",
            "_model_module_version": "1.5.0",
            "_model_name": "HTMLModel",
            "_view_count": null,
            "_view_module": "@jupyter-widgets/controls",
            "_view_module_version": "1.5.0",
            "_view_name": "HTMLView",
            "description": "",
            "description_tooltip": null,
            "layout": "IPY_MODEL_63f8103da5ea42ffb227d6c277216993",
            "placeholder": "​",
            "style": "IPY_MODEL_c12525cdd09b41bb81bbadb46511156a",
            "value": " 48.0/48.0 [00:00&lt;00:00, 1.88kB/s]"
          }
        },
        "624da9578ca44d47a2604d0c168ce212": {
          "model_module": "@jupyter-widgets/base",
          "model_name": "LayoutModel",
          "model_module_version": "1.2.0",
          "state": {
            "_model_module": "@jupyter-widgets/base",
            "_model_module_version": "1.2.0",
            "_model_name": "LayoutModel",
            "_view_count": null,
            "_view_module": "@jupyter-widgets/base",
            "_view_module_version": "1.2.0",
            "_view_name": "LayoutView",
            "align_content": null,
            "align_items": null,
            "align_self": null,
            "border": null,
            "bottom": null,
            "display": null,
            "flex": null,
            "flex_flow": null,
            "grid_area": null,
            "grid_auto_columns": null,
            "grid_auto_flow": null,
            "grid_auto_rows": null,
            "grid_column": null,
            "grid_gap": null,
            "grid_row": null,
            "grid_template_areas": null,
            "grid_template_columns": null,
            "grid_template_rows": null,
            "height": null,
            "justify_content": null,
            "justify_items": null,
            "left": null,
            "margin": null,
            "max_height": null,
            "max_width": null,
            "min_height": null,
            "min_width": null,
            "object_fit": null,
            "object_position": null,
            "order": null,
            "overflow": null,
            "overflow_x": null,
            "overflow_y": null,
            "padding": null,
            "right": null,
            "top": null,
            "visibility": null,
            "width": null
          }
        },
        "cd578717e7b548068b3b72da41068b9d": {
          "model_module": "@jupyter-widgets/base",
          "model_name": "LayoutModel",
          "model_module_version": "1.2.0",
          "state": {
            "_model_module": "@jupyter-widgets/base",
            "_model_module_version": "1.2.0",
            "_model_name": "LayoutModel",
            "_view_count": null,
            "_view_module": "@jupyter-widgets/base",
            "_view_module_version": "1.2.0",
            "_view_name": "LayoutView",
            "align_content": null,
            "align_items": null,
            "align_self": null,
            "border": null,
            "bottom": null,
            "display": null,
            "flex": null,
            "flex_flow": null,
            "grid_area": null,
            "grid_auto_columns": null,
            "grid_auto_flow": null,
            "grid_auto_rows": null,
            "grid_column": null,
            "grid_gap": null,
            "grid_row": null,
            "grid_template_areas": null,
            "grid_template_columns": null,
            "grid_template_rows": null,
            "height": null,
            "justify_content": null,
            "justify_items": null,
            "left": null,
            "margin": null,
            "max_height": null,
            "max_width": null,
            "min_height": null,
            "min_width": null,
            "object_fit": null,
            "object_position": null,
            "order": null,
            "overflow": null,
            "overflow_x": null,
            "overflow_y": null,
            "padding": null,
            "right": null,
            "top": null,
            "visibility": null,
            "width": null
          }
        },
        "4de2e05f022c44fea6e68a07648e8796": {
          "model_module": "@jupyter-widgets/controls",
          "model_name": "DescriptionStyleModel",
          "model_module_version": "1.5.0",
          "state": {
            "_model_module": "@jupyter-widgets/controls",
            "_model_module_version": "1.5.0",
            "_model_name": "DescriptionStyleModel",
            "_view_count": null,
            "_view_module": "@jupyter-widgets/base",
            "_view_module_version": "1.2.0",
            "_view_name": "StyleView",
            "description_width": ""
          }
        },
        "0e73982ce0194266a1ec4811eb672911": {
          "model_module": "@jupyter-widgets/base",
          "model_name": "LayoutModel",
          "model_module_version": "1.2.0",
          "state": {
            "_model_module": "@jupyter-widgets/base",
            "_model_module_version": "1.2.0",
            "_model_name": "LayoutModel",
            "_view_count": null,
            "_view_module": "@jupyter-widgets/base",
            "_view_module_version": "1.2.0",
            "_view_name": "LayoutView",
            "align_content": null,
            "align_items": null,
            "align_self": null,
            "border": null,
            "bottom": null,
            "display": null,
            "flex": null,
            "flex_flow": null,
            "grid_area": null,
            "grid_auto_columns": null,
            "grid_auto_flow": null,
            "grid_auto_rows": null,
            "grid_column": null,
            "grid_gap": null,
            "grid_row": null,
            "grid_template_areas": null,
            "grid_template_columns": null,
            "grid_template_rows": null,
            "height": null,
            "justify_content": null,
            "justify_items": null,
            "left": null,
            "margin": null,
            "max_height": null,
            "max_width": null,
            "min_height": null,
            "min_width": null,
            "object_fit": null,
            "object_position": null,
            "order": null,
            "overflow": null,
            "overflow_x": null,
            "overflow_y": null,
            "padding": null,
            "right": null,
            "top": null,
            "visibility": null,
            "width": null
          }
        },
        "190d04d15fde4d5d8ad7da9e104d1d7f": {
          "model_module": "@jupyter-widgets/controls",
          "model_name": "ProgressStyleModel",
          "model_module_version": "1.5.0",
          "state": {
            "_model_module": "@jupyter-widgets/controls",
            "_model_module_version": "1.5.0",
            "_model_name": "ProgressStyleModel",
            "_view_count": null,
            "_view_module": "@jupyter-widgets/base",
            "_view_module_version": "1.2.0",
            "_view_name": "StyleView",
            "bar_color": null,
            "description_width": ""
          }
        },
        "63f8103da5ea42ffb227d6c277216993": {
          "model_module": "@jupyter-widgets/base",
          "model_name": "LayoutModel",
          "model_module_version": "1.2.0",
          "state": {
            "_model_module": "@jupyter-widgets/base",
            "_model_module_version": "1.2.0",
            "_model_name": "LayoutModel",
            "_view_count": null,
            "_view_module": "@jupyter-widgets/base",
            "_view_module_version": "1.2.0",
            "_view_name": "LayoutView",
            "align_content": null,
            "align_items": null,
            "align_self": null,
            "border": null,
            "bottom": null,
            "display": null,
            "flex": null,
            "flex_flow": null,
            "grid_area": null,
            "grid_auto_columns": null,
            "grid_auto_flow": null,
            "grid_auto_rows": null,
            "grid_column": null,
            "grid_gap": null,
            "grid_row": null,
            "grid_template_areas": null,
            "grid_template_columns": null,
            "grid_template_rows": null,
            "height": null,
            "justify_content": null,
            "justify_items": null,
            "left": null,
            "margin": null,
            "max_height": null,
            "max_width": null,
            "min_height": null,
            "min_width": null,
            "object_fit": null,
            "object_position": null,
            "order": null,
            "overflow": null,
            "overflow_x": null,
            "overflow_y": null,
            "padding": null,
            "right": null,
            "top": null,
            "visibility": null,
            "width": null
          }
        },
        "c12525cdd09b41bb81bbadb46511156a": {
          "model_module": "@jupyter-widgets/controls",
          "model_name": "DescriptionStyleModel",
          "model_module_version": "1.5.0",
          "state": {
            "_model_module": "@jupyter-widgets/controls",
            "_model_module_version": "1.5.0",
            "_model_name": "DescriptionStyleModel",
            "_view_count": null,
            "_view_module": "@jupyter-widgets/base",
            "_view_module_version": "1.2.0",
            "_view_name": "StyleView",
            "description_width": ""
          }
        },
        "b4857bd56fbb4a44add97be64cae475c": {
          "model_module": "@jupyter-widgets/controls",
          "model_name": "HBoxModel",
          "model_module_version": "1.5.0",
          "state": {
            "_dom_classes": [],
            "_model_module": "@jupyter-widgets/controls",
            "_model_module_version": "1.5.0",
            "_model_name": "HBoxModel",
            "_view_count": null,
            "_view_module": "@jupyter-widgets/controls",
            "_view_module_version": "1.5.0",
            "_view_name": "HBoxView",
            "box_style": "",
            "children": [
              "IPY_MODEL_1568988b03cb4e20b09bc49527ba4137",
              "IPY_MODEL_b619e5ed941b46b3b0395a52613788bc",
              "IPY_MODEL_3aa732d4d6da4080b4c14f58e3d637a3"
            ],
            "layout": "IPY_MODEL_ec04dd33a60048699facc63d76be9d01"
          }
        },
        "1568988b03cb4e20b09bc49527ba4137": {
          "model_module": "@jupyter-widgets/controls",
          "model_name": "HTMLModel",
          "model_module_version": "1.5.0",
          "state": {
            "_dom_classes": [],
            "_model_module": "@jupyter-widgets/controls",
            "_model_module_version": "1.5.0",
            "_model_name": "HTMLModel",
            "_view_count": null,
            "_view_module": "@jupyter-widgets/controls",
            "_view_module_version": "1.5.0",
            "_view_name": "HTMLView",
            "description": "",
            "description_tooltip": null,
            "layout": "IPY_MODEL_2b825944503b49b6a60abc1bdd534d8d",
            "placeholder": "​",
            "style": "IPY_MODEL_3d0f431c42344bd49acda05cf03c5643",
            "value": "vocab.txt: 100%"
          }
        },
        "b619e5ed941b46b3b0395a52613788bc": {
          "model_module": "@jupyter-widgets/controls",
          "model_name": "FloatProgressModel",
          "model_module_version": "1.5.0",
          "state": {
            "_dom_classes": [],
            "_model_module": "@jupyter-widgets/controls",
            "_model_module_version": "1.5.0",
            "_model_name": "FloatProgressModel",
            "_view_count": null,
            "_view_module": "@jupyter-widgets/controls",
            "_view_module_version": "1.5.0",
            "_view_name": "ProgressView",
            "bar_style": "success",
            "description": "",
            "description_tooltip": null,
            "layout": "IPY_MODEL_1c2aa9425f084fa09763015bb4e92718",
            "max": 231508,
            "min": 0,
            "orientation": "horizontal",
            "style": "IPY_MODEL_1b0ddbdc7cb9431fa4480f583976b309",
            "value": 231508
          }
        },
        "3aa732d4d6da4080b4c14f58e3d637a3": {
          "model_module": "@jupyter-widgets/controls",
          "model_name": "HTMLModel",
          "model_module_version": "1.5.0",
          "state": {
            "_dom_classes": [],
            "_model_module": "@jupyter-widgets/controls",
            "_model_module_version": "1.5.0",
            "_model_name": "HTMLModel",
            "_view_count": null,
            "_view_module": "@jupyter-widgets/controls",
            "_view_module_version": "1.5.0",
            "_view_name": "HTMLView",
            "description": "",
            "description_tooltip": null,
            "layout": "IPY_MODEL_00785cd39e344595996e160d0dd0c943",
            "placeholder": "​",
            "style": "IPY_MODEL_dff8778808974fb7b4ff811f972275b9",
            "value": " 232k/232k [00:00&lt;00:00, 3.39MB/s]"
          }
        },
        "ec04dd33a60048699facc63d76be9d01": {
          "model_module": "@jupyter-widgets/base",
          "model_name": "LayoutModel",
          "model_module_version": "1.2.0",
          "state": {
            "_model_module": "@jupyter-widgets/base",
            "_model_module_version": "1.2.0",
            "_model_name": "LayoutModel",
            "_view_count": null,
            "_view_module": "@jupyter-widgets/base",
            "_view_module_version": "1.2.0",
            "_view_name": "LayoutView",
            "align_content": null,
            "align_items": null,
            "align_self": null,
            "border": null,
            "bottom": null,
            "display": null,
            "flex": null,
            "flex_flow": null,
            "grid_area": null,
            "grid_auto_columns": null,
            "grid_auto_flow": null,
            "grid_auto_rows": null,
            "grid_column": null,
            "grid_gap": null,
            "grid_row": null,
            "grid_template_areas": null,
            "grid_template_columns": null,
            "grid_template_rows": null,
            "height": null,
            "justify_content": null,
            "justify_items": null,
            "left": null,
            "margin": null,
            "max_height": null,
            "max_width": null,
            "min_height": null,
            "min_width": null,
            "object_fit": null,
            "object_position": null,
            "order": null,
            "overflow": null,
            "overflow_x": null,
            "overflow_y": null,
            "padding": null,
            "right": null,
            "top": null,
            "visibility": null,
            "width": null
          }
        },
        "2b825944503b49b6a60abc1bdd534d8d": {
          "model_module": "@jupyter-widgets/base",
          "model_name": "LayoutModel",
          "model_module_version": "1.2.0",
          "state": {
            "_model_module": "@jupyter-widgets/base",
            "_model_module_version": "1.2.0",
            "_model_name": "LayoutModel",
            "_view_count": null,
            "_view_module": "@jupyter-widgets/base",
            "_view_module_version": "1.2.0",
            "_view_name": "LayoutView",
            "align_content": null,
            "align_items": null,
            "align_self": null,
            "border": null,
            "bottom": null,
            "display": null,
            "flex": null,
            "flex_flow": null,
            "grid_area": null,
            "grid_auto_columns": null,
            "grid_auto_flow": null,
            "grid_auto_rows": null,
            "grid_column": null,
            "grid_gap": null,
            "grid_row": null,
            "grid_template_areas": null,
            "grid_template_columns": null,
            "grid_template_rows": null,
            "height": null,
            "justify_content": null,
            "justify_items": null,
            "left": null,
            "margin": null,
            "max_height": null,
            "max_width": null,
            "min_height": null,
            "min_width": null,
            "object_fit": null,
            "object_position": null,
            "order": null,
            "overflow": null,
            "overflow_x": null,
            "overflow_y": null,
            "padding": null,
            "right": null,
            "top": null,
            "visibility": null,
            "width": null
          }
        },
        "3d0f431c42344bd49acda05cf03c5643": {
          "model_module": "@jupyter-widgets/controls",
          "model_name": "DescriptionStyleModel",
          "model_module_version": "1.5.0",
          "state": {
            "_model_module": "@jupyter-widgets/controls",
            "_model_module_version": "1.5.0",
            "_model_name": "DescriptionStyleModel",
            "_view_count": null,
            "_view_module": "@jupyter-widgets/base",
            "_view_module_version": "1.2.0",
            "_view_name": "StyleView",
            "description_width": ""
          }
        },
        "1c2aa9425f084fa09763015bb4e92718": {
          "model_module": "@jupyter-widgets/base",
          "model_name": "LayoutModel",
          "model_module_version": "1.2.0",
          "state": {
            "_model_module": "@jupyter-widgets/base",
            "_model_module_version": "1.2.0",
            "_model_name": "LayoutModel",
            "_view_count": null,
            "_view_module": "@jupyter-widgets/base",
            "_view_module_version": "1.2.0",
            "_view_name": "LayoutView",
            "align_content": null,
            "align_items": null,
            "align_self": null,
            "border": null,
            "bottom": null,
            "display": null,
            "flex": null,
            "flex_flow": null,
            "grid_area": null,
            "grid_auto_columns": null,
            "grid_auto_flow": null,
            "grid_auto_rows": null,
            "grid_column": null,
            "grid_gap": null,
            "grid_row": null,
            "grid_template_areas": null,
            "grid_template_columns": null,
            "grid_template_rows": null,
            "height": null,
            "justify_content": null,
            "justify_items": null,
            "left": null,
            "margin": null,
            "max_height": null,
            "max_width": null,
            "min_height": null,
            "min_width": null,
            "object_fit": null,
            "object_position": null,
            "order": null,
            "overflow": null,
            "overflow_x": null,
            "overflow_y": null,
            "padding": null,
            "right": null,
            "top": null,
            "visibility": null,
            "width": null
          }
        },
        "1b0ddbdc7cb9431fa4480f583976b309": {
          "model_module": "@jupyter-widgets/controls",
          "model_name": "ProgressStyleModel",
          "model_module_version": "1.5.0",
          "state": {
            "_model_module": "@jupyter-widgets/controls",
            "_model_module_version": "1.5.0",
            "_model_name": "ProgressStyleModel",
            "_view_count": null,
            "_view_module": "@jupyter-widgets/base",
            "_view_module_version": "1.2.0",
            "_view_name": "StyleView",
            "bar_color": null,
            "description_width": ""
          }
        },
        "00785cd39e344595996e160d0dd0c943": {
          "model_module": "@jupyter-widgets/base",
          "model_name": "LayoutModel",
          "model_module_version": "1.2.0",
          "state": {
            "_model_module": "@jupyter-widgets/base",
            "_model_module_version": "1.2.0",
            "_model_name": "LayoutModel",
            "_view_count": null,
            "_view_module": "@jupyter-widgets/base",
            "_view_module_version": "1.2.0",
            "_view_name": "LayoutView",
            "align_content": null,
            "align_items": null,
            "align_self": null,
            "border": null,
            "bottom": null,
            "display": null,
            "flex": null,
            "flex_flow": null,
            "grid_area": null,
            "grid_auto_columns": null,
            "grid_auto_flow": null,
            "grid_auto_rows": null,
            "grid_column": null,
            "grid_gap": null,
            "grid_row": null,
            "grid_template_areas": null,
            "grid_template_columns": null,
            "grid_template_rows": null,
            "height": null,
            "justify_content": null,
            "justify_items": null,
            "left": null,
            "margin": null,
            "max_height": null,
            "max_width": null,
            "min_height": null,
            "min_width": null,
            "object_fit": null,
            "object_position": null,
            "order": null,
            "overflow": null,
            "overflow_x": null,
            "overflow_y": null,
            "padding": null,
            "right": null,
            "top": null,
            "visibility": null,
            "width": null
          }
        },
        "dff8778808974fb7b4ff811f972275b9": {
          "model_module": "@jupyter-widgets/controls",
          "model_name": "DescriptionStyleModel",
          "model_module_version": "1.5.0",
          "state": {
            "_model_module": "@jupyter-widgets/controls",
            "_model_module_version": "1.5.0",
            "_model_name": "DescriptionStyleModel",
            "_view_count": null,
            "_view_module": "@jupyter-widgets/base",
            "_view_module_version": "1.2.0",
            "_view_name": "StyleView",
            "description_width": ""
          }
        },
        "5ad1aba758a5434ea12935149a4dbbea": {
          "model_module": "@jupyter-widgets/controls",
          "model_name": "HBoxModel",
          "model_module_version": "1.5.0",
          "state": {
            "_dom_classes": [],
            "_model_module": "@jupyter-widgets/controls",
            "_model_module_version": "1.5.0",
            "_model_name": "HBoxModel",
            "_view_count": null,
            "_view_module": "@jupyter-widgets/controls",
            "_view_module_version": "1.5.0",
            "_view_name": "HBoxView",
            "box_style": "",
            "children": [
              "IPY_MODEL_0a08ec381f98405a9c1c3faceade2405",
              "IPY_MODEL_6a6f3b8e2f664639b1e5457511e5eedd",
              "IPY_MODEL_3bfa3fb8541b48f5bb7f8ee0fb845d80"
            ],
            "layout": "IPY_MODEL_91630979523d4106a72f6ec928df66f9"
          }
        },
        "0a08ec381f98405a9c1c3faceade2405": {
          "model_module": "@jupyter-widgets/controls",
          "model_name": "HTMLModel",
          "model_module_version": "1.5.0",
          "state": {
            "_dom_classes": [],
            "_model_module": "@jupyter-widgets/controls",
            "_model_module_version": "1.5.0",
            "_model_name": "HTMLModel",
            "_view_count": null,
            "_view_module": "@jupyter-widgets/controls",
            "_view_module_version": "1.5.0",
            "_view_name": "HTMLView",
            "description": "",
            "description_tooltip": null,
            "layout": "IPY_MODEL_66c2970d5a5842bca2f0e2c15436bb7e",
            "placeholder": "​",
            "style": "IPY_MODEL_db349a72774642a299be1978ee311852",
            "value": "tokenizer.json: 100%"
          }
        },
        "6a6f3b8e2f664639b1e5457511e5eedd": {
          "model_module": "@jupyter-widgets/controls",
          "model_name": "FloatProgressModel",
          "model_module_version": "1.5.0",
          "state": {
            "_dom_classes": [],
            "_model_module": "@jupyter-widgets/controls",
            "_model_module_version": "1.5.0",
            "_model_name": "FloatProgressModel",
            "_view_count": null,
            "_view_module": "@jupyter-widgets/controls",
            "_view_module_version": "1.5.0",
            "_view_name": "ProgressView",
            "bar_style": "success",
            "description": "",
            "description_tooltip": null,
            "layout": "IPY_MODEL_abb1ebda31824e7890cffd15b02f9705",
            "max": 466062,
            "min": 0,
            "orientation": "horizontal",
            "style": "IPY_MODEL_214dfe25d1954b80bc61da08fa802edf",
            "value": 466062
          }
        },
        "3bfa3fb8541b48f5bb7f8ee0fb845d80": {
          "model_module": "@jupyter-widgets/controls",
          "model_name": "HTMLModel",
          "model_module_version": "1.5.0",
          "state": {
            "_dom_classes": [],
            "_model_module": "@jupyter-widgets/controls",
            "_model_module_version": "1.5.0",
            "_model_name": "HTMLModel",
            "_view_count": null,
            "_view_module": "@jupyter-widgets/controls",
            "_view_module_version": "1.5.0",
            "_view_name": "HTMLView",
            "description": "",
            "description_tooltip": null,
            "layout": "IPY_MODEL_f3bba4844eea4c67b954cb2d9e9cb90d",
            "placeholder": "​",
            "style": "IPY_MODEL_3f949efdf72a4a5aa611ade2a9327d19",
            "value": " 466k/466k [00:00&lt;00:00, 2.22MB/s]"
          }
        },
        "91630979523d4106a72f6ec928df66f9": {
          "model_module": "@jupyter-widgets/base",
          "model_name": "LayoutModel",
          "model_module_version": "1.2.0",
          "state": {
            "_model_module": "@jupyter-widgets/base",
            "_model_module_version": "1.2.0",
            "_model_name": "LayoutModel",
            "_view_count": null,
            "_view_module": "@jupyter-widgets/base",
            "_view_module_version": "1.2.0",
            "_view_name": "LayoutView",
            "align_content": null,
            "align_items": null,
            "align_self": null,
            "border": null,
            "bottom": null,
            "display": null,
            "flex": null,
            "flex_flow": null,
            "grid_area": null,
            "grid_auto_columns": null,
            "grid_auto_flow": null,
            "grid_auto_rows": null,
            "grid_column": null,
            "grid_gap": null,
            "grid_row": null,
            "grid_template_areas": null,
            "grid_template_columns": null,
            "grid_template_rows": null,
            "height": null,
            "justify_content": null,
            "justify_items": null,
            "left": null,
            "margin": null,
            "max_height": null,
            "max_width": null,
            "min_height": null,
            "min_width": null,
            "object_fit": null,
            "object_position": null,
            "order": null,
            "overflow": null,
            "overflow_x": null,
            "overflow_y": null,
            "padding": null,
            "right": null,
            "top": null,
            "visibility": null,
            "width": null
          }
        },
        "66c2970d5a5842bca2f0e2c15436bb7e": {
          "model_module": "@jupyter-widgets/base",
          "model_name": "LayoutModel",
          "model_module_version": "1.2.0",
          "state": {
            "_model_module": "@jupyter-widgets/base",
            "_model_module_version": "1.2.0",
            "_model_name": "LayoutModel",
            "_view_count": null,
            "_view_module": "@jupyter-widgets/base",
            "_view_module_version": "1.2.0",
            "_view_name": "LayoutView",
            "align_content": null,
            "align_items": null,
            "align_self": null,
            "border": null,
            "bottom": null,
            "display": null,
            "flex": null,
            "flex_flow": null,
            "grid_area": null,
            "grid_auto_columns": null,
            "grid_auto_flow": null,
            "grid_auto_rows": null,
            "grid_column": null,
            "grid_gap": null,
            "grid_row": null,
            "grid_template_areas": null,
            "grid_template_columns": null,
            "grid_template_rows": null,
            "height": null,
            "justify_content": null,
            "justify_items": null,
            "left": null,
            "margin": null,
            "max_height": null,
            "max_width": null,
            "min_height": null,
            "min_width": null,
            "object_fit": null,
            "object_position": null,
            "order": null,
            "overflow": null,
            "overflow_x": null,
            "overflow_y": null,
            "padding": null,
            "right": null,
            "top": null,
            "visibility": null,
            "width": null
          }
        },
        "db349a72774642a299be1978ee311852": {
          "model_module": "@jupyter-widgets/controls",
          "model_name": "DescriptionStyleModel",
          "model_module_version": "1.5.0",
          "state": {
            "_model_module": "@jupyter-widgets/controls",
            "_model_module_version": "1.5.0",
            "_model_name": "DescriptionStyleModel",
            "_view_count": null,
            "_view_module": "@jupyter-widgets/base",
            "_view_module_version": "1.2.0",
            "_view_name": "StyleView",
            "description_width": ""
          }
        },
        "abb1ebda31824e7890cffd15b02f9705": {
          "model_module": "@jupyter-widgets/base",
          "model_name": "LayoutModel",
          "model_module_version": "1.2.0",
          "state": {
            "_model_module": "@jupyter-widgets/base",
            "_model_module_version": "1.2.0",
            "_model_name": "LayoutModel",
            "_view_count": null,
            "_view_module": "@jupyter-widgets/base",
            "_view_module_version": "1.2.0",
            "_view_name": "LayoutView",
            "align_content": null,
            "align_items": null,
            "align_self": null,
            "border": null,
            "bottom": null,
            "display": null,
            "flex": null,
            "flex_flow": null,
            "grid_area": null,
            "grid_auto_columns": null,
            "grid_auto_flow": null,
            "grid_auto_rows": null,
            "grid_column": null,
            "grid_gap": null,
            "grid_row": null,
            "grid_template_areas": null,
            "grid_template_columns": null,
            "grid_template_rows": null,
            "height": null,
            "justify_content": null,
            "justify_items": null,
            "left": null,
            "margin": null,
            "max_height": null,
            "max_width": null,
            "min_height": null,
            "min_width": null,
            "object_fit": null,
            "object_position": null,
            "order": null,
            "overflow": null,
            "overflow_x": null,
            "overflow_y": null,
            "padding": null,
            "right": null,
            "top": null,
            "visibility": null,
            "width": null
          }
        },
        "214dfe25d1954b80bc61da08fa802edf": {
          "model_module": "@jupyter-widgets/controls",
          "model_name": "ProgressStyleModel",
          "model_module_version": "1.5.0",
          "state": {
            "_model_module": "@jupyter-widgets/controls",
            "_model_module_version": "1.5.0",
            "_model_name": "ProgressStyleModel",
            "_view_count": null,
            "_view_module": "@jupyter-widgets/base",
            "_view_module_version": "1.2.0",
            "_view_name": "StyleView",
            "bar_color": null,
            "description_width": ""
          }
        },
        "f3bba4844eea4c67b954cb2d9e9cb90d": {
          "model_module": "@jupyter-widgets/base",
          "model_name": "LayoutModel",
          "model_module_version": "1.2.0",
          "state": {
            "_model_module": "@jupyter-widgets/base",
            "_model_module_version": "1.2.0",
            "_model_name": "LayoutModel",
            "_view_count": null,
            "_view_module": "@jupyter-widgets/base",
            "_view_module_version": "1.2.0",
            "_view_name": "LayoutView",
            "align_content": null,
            "align_items": null,
            "align_self": null,
            "border": null,
            "bottom": null,
            "display": null,
            "flex": null,
            "flex_flow": null,
            "grid_area": null,
            "grid_auto_columns": null,
            "grid_auto_flow": null,
            "grid_auto_rows": null,
            "grid_column": null,
            "grid_gap": null,
            "grid_row": null,
            "grid_template_areas": null,
            "grid_template_columns": null,
            "grid_template_rows": null,
            "height": null,
            "justify_content": null,
            "justify_items": null,
            "left": null,
            "margin": null,
            "max_height": null,
            "max_width": null,
            "min_height": null,
            "min_width": null,
            "object_fit": null,
            "object_position": null,
            "order": null,
            "overflow": null,
            "overflow_x": null,
            "overflow_y": null,
            "padding": null,
            "right": null,
            "top": null,
            "visibility": null,
            "width": null
          }
        },
        "3f949efdf72a4a5aa611ade2a9327d19": {
          "model_module": "@jupyter-widgets/controls",
          "model_name": "DescriptionStyleModel",
          "model_module_version": "1.5.0",
          "state": {
            "_model_module": "@jupyter-widgets/controls",
            "_model_module_version": "1.5.0",
            "_model_name": "DescriptionStyleModel",
            "_view_count": null,
            "_view_module": "@jupyter-widgets/base",
            "_view_module_version": "1.2.0",
            "_view_name": "StyleView",
            "description_width": ""
          }
        },
        "24475d514b1e420fa9971fa27df28830": {
          "model_module": "@jupyter-widgets/controls",
          "model_name": "HBoxModel",
          "model_module_version": "1.5.0",
          "state": {
            "_dom_classes": [],
            "_model_module": "@jupyter-widgets/controls",
            "_model_module_version": "1.5.0",
            "_model_name": "HBoxModel",
            "_view_count": null,
            "_view_module": "@jupyter-widgets/controls",
            "_view_module_version": "1.5.0",
            "_view_name": "HBoxView",
            "box_style": "",
            "children": [
              "IPY_MODEL_65f52d2ba4474cfba364f053e07ef715",
              "IPY_MODEL_5ed8c51c8caa497993bfba9818558e71",
              "IPY_MODEL_e8dff2e5de014d14aed032b85630006a"
            ],
            "layout": "IPY_MODEL_cb80eee02151416d85db2e3bc8826a92"
          }
        },
        "65f52d2ba4474cfba364f053e07ef715": {
          "model_module": "@jupyter-widgets/controls",
          "model_name": "HTMLModel",
          "model_module_version": "1.5.0",
          "state": {
            "_dom_classes": [],
            "_model_module": "@jupyter-widgets/controls",
            "_model_module_version": "1.5.0",
            "_model_name": "HTMLModel",
            "_view_count": null,
            "_view_module": "@jupyter-widgets/controls",
            "_view_module_version": "1.5.0",
            "_view_name": "HTMLView",
            "description": "",
            "description_tooltip": null,
            "layout": "IPY_MODEL_5f9053e2c853449a8bff3b551172432c",
            "placeholder": "​",
            "style": "IPY_MODEL_4346dbc151d74c3fbf5b25e43cf010f3",
            "value": "config.json: 100%"
          }
        },
        "5ed8c51c8caa497993bfba9818558e71": {
          "model_module": "@jupyter-widgets/controls",
          "model_name": "FloatProgressModel",
          "model_module_version": "1.5.0",
          "state": {
            "_dom_classes": [],
            "_model_module": "@jupyter-widgets/controls",
            "_model_module_version": "1.5.0",
            "_model_name": "FloatProgressModel",
            "_view_count": null,
            "_view_module": "@jupyter-widgets/controls",
            "_view_module_version": "1.5.0",
            "_view_name": "ProgressView",
            "bar_style": "success",
            "description": "",
            "description_tooltip": null,
            "layout": "IPY_MODEL_28bb8de0dc3f44cab12f31bc5712df77",
            "max": 570,
            "min": 0,
            "orientation": "horizontal",
            "style": "IPY_MODEL_7ff05b5ac24c46fb90b793dac48737a7",
            "value": 570
          }
        },
        "e8dff2e5de014d14aed032b85630006a": {
          "model_module": "@jupyter-widgets/controls",
          "model_name": "HTMLModel",
          "model_module_version": "1.5.0",
          "state": {
            "_dom_classes": [],
            "_model_module": "@jupyter-widgets/controls",
            "_model_module_version": "1.5.0",
            "_model_name": "HTMLModel",
            "_view_count": null,
            "_view_module": "@jupyter-widgets/controls",
            "_view_module_version": "1.5.0",
            "_view_name": "HTMLView",
            "description": "",
            "description_tooltip": null,
            "layout": "IPY_MODEL_2a1ec75783fd4f3c91c50b2e644b2a4d",
            "placeholder": "​",
            "style": "IPY_MODEL_1fca910c6ba24847b217fc5724f000b0",
            "value": " 570/570 [00:00&lt;00:00, 8.01kB/s]"
          }
        },
        "cb80eee02151416d85db2e3bc8826a92": {
          "model_module": "@jupyter-widgets/base",
          "model_name": "LayoutModel",
          "model_module_version": "1.2.0",
          "state": {
            "_model_module": "@jupyter-widgets/base",
            "_model_module_version": "1.2.0",
            "_model_name": "LayoutModel",
            "_view_count": null,
            "_view_module": "@jupyter-widgets/base",
            "_view_module_version": "1.2.0",
            "_view_name": "LayoutView",
            "align_content": null,
            "align_items": null,
            "align_self": null,
            "border": null,
            "bottom": null,
            "display": null,
            "flex": null,
            "flex_flow": null,
            "grid_area": null,
            "grid_auto_columns": null,
            "grid_auto_flow": null,
            "grid_auto_rows": null,
            "grid_column": null,
            "grid_gap": null,
            "grid_row": null,
            "grid_template_areas": null,
            "grid_template_columns": null,
            "grid_template_rows": null,
            "height": null,
            "justify_content": null,
            "justify_items": null,
            "left": null,
            "margin": null,
            "max_height": null,
            "max_width": null,
            "min_height": null,
            "min_width": null,
            "object_fit": null,
            "object_position": null,
            "order": null,
            "overflow": null,
            "overflow_x": null,
            "overflow_y": null,
            "padding": null,
            "right": null,
            "top": null,
            "visibility": null,
            "width": null
          }
        },
        "5f9053e2c853449a8bff3b551172432c": {
          "model_module": "@jupyter-widgets/base",
          "model_name": "LayoutModel",
          "model_module_version": "1.2.0",
          "state": {
            "_model_module": "@jupyter-widgets/base",
            "_model_module_version": "1.2.0",
            "_model_name": "LayoutModel",
            "_view_count": null,
            "_view_module": "@jupyter-widgets/base",
            "_view_module_version": "1.2.0",
            "_view_name": "LayoutView",
            "align_content": null,
            "align_items": null,
            "align_self": null,
            "border": null,
            "bottom": null,
            "display": null,
            "flex": null,
            "flex_flow": null,
            "grid_area": null,
            "grid_auto_columns": null,
            "grid_auto_flow": null,
            "grid_auto_rows": null,
            "grid_column": null,
            "grid_gap": null,
            "grid_row": null,
            "grid_template_areas": null,
            "grid_template_columns": null,
            "grid_template_rows": null,
            "height": null,
            "justify_content": null,
            "justify_items": null,
            "left": null,
            "margin": null,
            "max_height": null,
            "max_width": null,
            "min_height": null,
            "min_width": null,
            "object_fit": null,
            "object_position": null,
            "order": null,
            "overflow": null,
            "overflow_x": null,
            "overflow_y": null,
            "padding": null,
            "right": null,
            "top": null,
            "visibility": null,
            "width": null
          }
        },
        "4346dbc151d74c3fbf5b25e43cf010f3": {
          "model_module": "@jupyter-widgets/controls",
          "model_name": "DescriptionStyleModel",
          "model_module_version": "1.5.0",
          "state": {
            "_model_module": "@jupyter-widgets/controls",
            "_model_module_version": "1.5.0",
            "_model_name": "DescriptionStyleModel",
            "_view_count": null,
            "_view_module": "@jupyter-widgets/base",
            "_view_module_version": "1.2.0",
            "_view_name": "StyleView",
            "description_width": ""
          }
        },
        "28bb8de0dc3f44cab12f31bc5712df77": {
          "model_module": "@jupyter-widgets/base",
          "model_name": "LayoutModel",
          "model_module_version": "1.2.0",
          "state": {
            "_model_module": "@jupyter-widgets/base",
            "_model_module_version": "1.2.0",
            "_model_name": "LayoutModel",
            "_view_count": null,
            "_view_module": "@jupyter-widgets/base",
            "_view_module_version": "1.2.0",
            "_view_name": "LayoutView",
            "align_content": null,
            "align_items": null,
            "align_self": null,
            "border": null,
            "bottom": null,
            "display": null,
            "flex": null,
            "flex_flow": null,
            "grid_area": null,
            "grid_auto_columns": null,
            "grid_auto_flow": null,
            "grid_auto_rows": null,
            "grid_column": null,
            "grid_gap": null,
            "grid_row": null,
            "grid_template_areas": null,
            "grid_template_columns": null,
            "grid_template_rows": null,
            "height": null,
            "justify_content": null,
            "justify_items": null,
            "left": null,
            "margin": null,
            "max_height": null,
            "max_width": null,
            "min_height": null,
            "min_width": null,
            "object_fit": null,
            "object_position": null,
            "order": null,
            "overflow": null,
            "overflow_x": null,
            "overflow_y": null,
            "padding": null,
            "right": null,
            "top": null,
            "visibility": null,
            "width": null
          }
        },
        "7ff05b5ac24c46fb90b793dac48737a7": {
          "model_module": "@jupyter-widgets/controls",
          "model_name": "ProgressStyleModel",
          "model_module_version": "1.5.0",
          "state": {
            "_model_module": "@jupyter-widgets/controls",
            "_model_module_version": "1.5.0",
            "_model_name": "ProgressStyleModel",
            "_view_count": null,
            "_view_module": "@jupyter-widgets/base",
            "_view_module_version": "1.2.0",
            "_view_name": "StyleView",
            "bar_color": null,
            "description_width": ""
          }
        },
        "2a1ec75783fd4f3c91c50b2e644b2a4d": {
          "model_module": "@jupyter-widgets/base",
          "model_name": "LayoutModel",
          "model_module_version": "1.2.0",
          "state": {
            "_model_module": "@jupyter-widgets/base",
            "_model_module_version": "1.2.0",
            "_model_name": "LayoutModel",
            "_view_count": null,
            "_view_module": "@jupyter-widgets/base",
            "_view_module_version": "1.2.0",
            "_view_name": "LayoutView",
            "align_content": null,
            "align_items": null,
            "align_self": null,
            "border": null,
            "bottom": null,
            "display": null,
            "flex": null,
            "flex_flow": null,
            "grid_area": null,
            "grid_auto_columns": null,
            "grid_auto_flow": null,
            "grid_auto_rows": null,
            "grid_column": null,
            "grid_gap": null,
            "grid_row": null,
            "grid_template_areas": null,
            "grid_template_columns": null,
            "grid_template_rows": null,
            "height": null,
            "justify_content": null,
            "justify_items": null,
            "left": null,
            "margin": null,
            "max_height": null,
            "max_width": null,
            "min_height": null,
            "min_width": null,
            "object_fit": null,
            "object_position": null,
            "order": null,
            "overflow": null,
            "overflow_x": null,
            "overflow_y": null,
            "padding": null,
            "right": null,
            "top": null,
            "visibility": null,
            "width": null
          }
        },
        "1fca910c6ba24847b217fc5724f000b0": {
          "model_module": "@jupyter-widgets/controls",
          "model_name": "DescriptionStyleModel",
          "model_module_version": "1.5.0",
          "state": {
            "_model_module": "@jupyter-widgets/controls",
            "_model_module_version": "1.5.0",
            "_model_name": "DescriptionStyleModel",
            "_view_count": null,
            "_view_module": "@jupyter-widgets/base",
            "_view_module_version": "1.2.0",
            "_view_name": "StyleView",
            "description_width": ""
          }
        }
      }
    }
  },
  "cells": [
    {
      "cell_type": "markdown",
      "source": [
        "## Install an Library and Import Packages"
      ],
      "metadata": {
        "id": "v9zFwNXuWIGo"
      }
    },
    {
      "cell_type": "code",
      "source": [
        "!pip install coremltools"
      ],
      "metadata": {
        "colab": {
          "base_uri": "https://localhost:8080/"
        },
        "id": "plcw_Xv9VV31",
        "outputId": "97706c8b-b329-4f7c-923c-675339106da0",
        "collapsed": true
      },
      "execution_count": 1,
      "outputs": [
        {
          "output_type": "stream",
          "name": "stdout",
          "text": [
            "Collecting coremltools\n",
            "  Downloading coremltools-7.2-cp310-none-manylinux1_x86_64.whl (1.9 MB)\n",
            "\u001b[2K     \u001b[90m━━━━━━━━━━━━━━━━━━━━━━━━━━━━━━━━━━━━━━━━\u001b[0m \u001b[32m1.9/1.9 MB\u001b[0m \u001b[31m9.4 MB/s\u001b[0m eta \u001b[36m0:00:00\u001b[0m\n",
            "\u001b[?25hRequirement already satisfied: numpy>=1.14.5 in /usr/local/lib/python3.10/dist-packages (from coremltools) (1.25.2)\n",
            "Requirement already satisfied: protobuf<=4.0.0,>=3.1.0 in /usr/local/lib/python3.10/dist-packages (from coremltools) (3.20.3)\n",
            "Requirement already satisfied: sympy in /usr/local/lib/python3.10/dist-packages (from coremltools) (1.12)\n",
            "Requirement already satisfied: tqdm in /usr/local/lib/python3.10/dist-packages (from coremltools) (4.66.4)\n",
            "Requirement already satisfied: packaging in /usr/local/lib/python3.10/dist-packages (from coremltools) (24.0)\n",
            "Requirement already satisfied: attrs>=21.3.0 in /usr/local/lib/python3.10/dist-packages (from coremltools) (23.2.0)\n",
            "Collecting cattrs (from coremltools)\n",
            "  Downloading cattrs-23.2.3-py3-none-any.whl (57 kB)\n",
            "\u001b[2K     \u001b[90m━━━━━━━━━━━━━━━━━━━━━━━━━━━━━━━━━━━━━━━━\u001b[0m \u001b[32m57.5/57.5 kB\u001b[0m \u001b[31m7.2 MB/s\u001b[0m eta \u001b[36m0:00:00\u001b[0m\n",
            "\u001b[?25hCollecting pyaml (from coremltools)\n",
            "  Downloading pyaml-24.4.0-py3-none-any.whl (24 kB)\n",
            "Requirement already satisfied: exceptiongroup>=1.1.1 in /usr/local/lib/python3.10/dist-packages (from cattrs->coremltools) (1.2.1)\n",
            "Requirement already satisfied: typing-extensions!=4.6.3,>=4.1.0 in /usr/local/lib/python3.10/dist-packages (from cattrs->coremltools) (4.11.0)\n",
            "Requirement already satisfied: PyYAML in /usr/local/lib/python3.10/dist-packages (from pyaml->coremltools) (6.0.1)\n",
            "Requirement already satisfied: mpmath>=0.19 in /usr/local/lib/python3.10/dist-packages (from sympy->coremltools) (1.3.0)\n",
            "Installing collected packages: pyaml, cattrs, coremltools\n",
            "Successfully installed cattrs-23.2.3 coremltools-7.2 pyaml-24.4.0\n"
          ]
        }
      ]
    },
    {
      "cell_type": "code",
      "execution_count": 2,
      "metadata": {
        "id": "8bwkI1rcRpkL",
        "colab": {
          "base_uri": "https://localhost:8080/"
        },
        "outputId": "2b11302d-a4cf-43e0-d760-1a4129aade01"
      },
      "outputs": [
        {
          "output_type": "stream",
          "name": "stderr",
          "text": [
            "WARNING:coremltools:scikit-learn version 1.2.2 is not supported. Minimum required version: 0.17. Maximum required version: 1.1.2. Disabling scikit-learn conversion API.\n",
            "WARNING:coremltools:XGBoost version 2.0.3 has not been tested with coremltools. You may run into unexpected errors. XGBoost 1.4.2 is the most recent version that has been tested.\n",
            "WARNING:coremltools:TensorFlow version 2.15.0 has not been tested with coremltools. You may run into unexpected errors. TensorFlow 2.12.0 is the most recent version that has been tested.\n",
            "WARNING:coremltools:Torch version 2.3.0+cu121 has not been tested with coremltools. You may run into unexpected errors. Torch 2.2.0 is the most recent version that has been tested.\n",
            "WARNING:coremltools:Failed to load _MLModelProxy: No module named 'coremltools.libcoremlpython'\n"
          ]
        }
      ],
      "source": [
        "import os\n",
        "import json\n",
        "import numpy as np\n",
        "from google.colab import drive\n",
        "from torchvision.models import vit_b_32, ViT_B_32_Weights\n",
        "from transformers import BertTokenizer\n",
        "import torch\n",
        "import torch.nn as nn\n",
        "import torch.nn.functional as F\n",
        "from torchvision import transforms\n",
        "import coremltools as ct"
      ]
    },
    {
      "cell_type": "code",
      "source": [
        "drive.mount('/content/drive')"
      ],
      "metadata": {
        "id": "wWTJ6BESRsLf",
        "colab": {
          "base_uri": "https://localhost:8080/"
        },
        "outputId": "a0ab0291-1e85-47cc-b4de-3744756f1bb0"
      },
      "execution_count": 3,
      "outputs": [
        {
          "output_type": "stream",
          "name": "stdout",
          "text": [
            "Mounted at /content/drive\n"
          ]
        }
      ]
    },
    {
      "cell_type": "markdown",
      "source": [
        "## Load Decoder Model"
      ],
      "metadata": {
        "id": "IPhpf45ZdD8g"
      }
    },
    {
      "cell_type": "markdown",
      "source": [
        "### Define structure of the model"
      ],
      "metadata": {
        "id": "f6W6rti2WUUb"
      }
    },
    {
      "cell_type": "code",
      "source": [
        "def create_positional_encoding(max_length, d_model):\n",
        "    assert d_model % 2 == 0, \"Dimension model must be even\"\n",
        "\n",
        "    pos = torch.arange(0, max_length).unsqueeze(1) # (max_length, 1)\n",
        "    pos_expanded = pos.repeat(1, d_model // 2) # (max_length, d_model // 2)\n",
        "\n",
        "    power = torch.arange(0, d_model, 2).float() / d_model\n",
        "    div_term = torch.pow(10000, power).unsqueeze(0) # (1, d_model // 2)\n",
        "    div_term_expanded = div_term.repeat(max_length, 1)  # (max_length, d_model // 2)\n",
        "\n",
        "    pe = torch.zeros(max_length, d_model) # (max_length, d_model)\n",
        "    pe[:, 0::2] = torch.sin(pos_expanded / div_term_expanded) # (max_length, d_model // 2)\n",
        "    pe[:, 1::2] = torch.cos(pos_expanded / div_term_expanded) # (max_length, d_model // 2)\n",
        "\n",
        "    return pe"
      ],
      "metadata": {
        "id": "HMmPr7uAia2e"
      },
      "execution_count": 15,
      "outputs": []
    },
    {
      "cell_type": "code",
      "source": [
        "class Embedding(nn.Module):\n",
        "  def __init__(self, vocab_size, max_length, d_model):\n",
        "    super(Embedding, self).__init__()\n",
        "    self.embedding = nn.Embedding(num_embeddings=vocab_size, embedding_dim=d_model)\n",
        "    self.pos_encoding = create_positional_encoding(max_length, d_model).to(device)\n",
        "\n",
        "  def forward(self, x):\n",
        "    \"\"\" Apply embedding and positional encoding to the input\n",
        "\n",
        "    Input:\n",
        "      x: (N, seq_length)\n",
        "    Output:\n",
        "      x: (N, seq_length, d_model)\n",
        "    \"\"\"\n",
        "    # apply embedding\n",
        "    x = self.embedding(x)\n",
        "    # apply positional encoding\n",
        "    x += self.pos_encoding[:x.size(1)]\n",
        "    return x"
      ],
      "metadata": {
        "id": "CKNkLA08dE51"
      },
      "execution_count": 16,
      "outputs": []
    },
    {
      "cell_type": "code",
      "source": [
        "device='cpu'"
      ],
      "metadata": {
        "id": "bEjM7znmR2ZV"
      },
      "execution_count": 17,
      "outputs": []
    },
    {
      "cell_type": "code",
      "source": [
        "mask_size = 32\n",
        "causal_mask = torch.zeros(mask_size, mask_size)\n",
        "for i in range(mask_size):\n",
        "    for j in range(mask_size):\n",
        "        if i < j:\n",
        "            causal_mask[i, j] = float('-inf')\n",
        "\n",
        "\n",
        "causal_mask = causal_mask.to(device)\n",
        "print(causal_mask)"
      ],
      "metadata": {
        "colab": {
          "base_uri": "https://localhost:8080/"
        },
        "id": "0rDJy1IuIKhc",
        "outputId": "6e6e8721-7412-4db0-c0fa-c19f3cad4063"
      },
      "execution_count": 18,
      "outputs": [
        {
          "output_type": "stream",
          "name": "stdout",
          "text": [
            "tensor([[0., -inf, -inf,  ..., -inf, -inf, -inf],\n",
            "        [0., 0., -inf,  ..., -inf, -inf, -inf],\n",
            "        [0., 0., 0.,  ..., -inf, -inf, -inf],\n",
            "        ...,\n",
            "        [0., 0., 0.,  ..., 0., -inf, -inf],\n",
            "        [0., 0., 0.,  ..., 0., 0., -inf],\n",
            "        [0., 0., 0.,  ..., 0., 0., 0.]])\n"
          ]
        }
      ]
    },
    {
      "cell_type": "code",
      "source": [
        "class CausalSelfAttention(nn.Module):\n",
        "  def __init__(self, d_model, num_heads, dropout):\n",
        "    super(CausalSelfAttention, self).__init__()\n",
        "    self.mha = nn.MultiheadAttention(embed_dim=d_model, num_heads=num_heads, dropout=dropout, batch_first=True)\n",
        "    self.layer_norm = nn.LayerNorm(d_model)\n",
        "\n",
        "\n",
        "  def forward(self, x):\n",
        "    attn_output, _ = self.mha(query=x, key=x, value=x, attn_mask=causal_mask, is_causal=True)\n",
        "    x = self.layer_norm(x + attn_output)\n",
        "    return x"
      ],
      "metadata": {
        "id": "T0PqEjGhibze"
      },
      "execution_count": 19,
      "outputs": []
    },
    {
      "cell_type": "code",
      "source": [
        "class CrossAttention(nn.Module):\n",
        "  def __init__(self, d_model, num_heads, dropout):\n",
        "    super(CrossAttention, self).__init__()\n",
        "    self.mha = nn.MultiheadAttention(embed_dim=d_model, num_heads=num_heads, dropout=dropout, batch_first=True)\n",
        "    self.layer_norm = nn.LayerNorm(d_model)\n",
        "\n",
        "\n",
        "  def forward(self, x, image_embedding):\n",
        "    attn_output, _ = self.mha(query=x, key=image_embedding, value=image_embedding)\n",
        "    x = self.layer_norm(x + attn_output)\n",
        "    return x"
      ],
      "metadata": {
        "id": "w5GnvmRxoSuI"
      },
      "execution_count": 20,
      "outputs": []
    },
    {
      "cell_type": "code",
      "source": [
        "class FeedForward(nn.Module):\n",
        "  def __init__(self, d_model, dropout):\n",
        "    super(FeedForward, self).__init__()\n",
        "    self.seq = nn.ModuleList([\n",
        "        nn.Linear(d_model, 2 * d_model),\n",
        "        nn.ReLU(),\n",
        "        nn.Linear(2 * d_model, d_model),\n",
        "        nn.Dropout(dropout)\n",
        "    ])\n",
        "\n",
        "    self.layernorm = nn.LayerNorm(d_model)\n",
        "\n",
        "  def forward(self, x):\n",
        "    original_x = x\n",
        "    for layer in self.seq:\n",
        "      x = layer(x)\n",
        "    out = x + original_x\n",
        "    return self.layernorm(out)"
      ],
      "metadata": {
        "id": "dm6R8vejD94i"
      },
      "execution_count": 21,
      "outputs": []
    },
    {
      "cell_type": "code",
      "source": [
        "class DecoderLayer(nn.Module):\n",
        "  def __init__(self, d_model, num_heads, dropout):\n",
        "    super(DecoderLayer, self).__init__()\n",
        "    self.self_attention = CausalSelfAttention(d_model=d_model, num_heads=num_heads, dropout=dropout)\n",
        "    self.cross_attention = CrossAttention(d_model=d_model, num_heads=num_heads, dropout=dropout)\n",
        "    self.ff = FeedForward(d_model=d_model, dropout=dropout)\n",
        "\n",
        "  def forward(self, inputs):\n",
        "    x, image_embedding = inputs\n",
        "    x = self.self_attention(x)\n",
        "    x = self.cross_attention(x, image_embedding)\n",
        "    x = self.ff(x)\n",
        "    return x"
      ],
      "metadata": {
        "id": "PXWu5XkrIMal"
      },
      "execution_count": 22,
      "outputs": []
    },
    {
      "cell_type": "code",
      "source": [
        "class Lastlayer(nn.Module):\n",
        "  def __init__(self, units, vocab_size):\n",
        "    super(Lastlayer, self).__init__()\n",
        "    self.linear = nn.Linear(units, vocab_size)\n",
        "\n",
        "  def forward(self, x):\n",
        "    x = self.linear(x)\n",
        "    return x"
      ],
      "metadata": {
        "id": "OVA7JGOOUfIw"
      },
      "execution_count": 23,
      "outputs": []
    },
    {
      "cell_type": "code",
      "source": [
        "class Captioner(nn.Module):\n",
        "  def __init__(self, vocab_size, max_length, d_model, num_heads, dropout):\n",
        "    super(Captioner, self).__init__()\n",
        "    self.seq_embedding = Embedding(vocab_size, max_length, d_model)\n",
        "    self.decoder_layers = nn.ModuleList([\n",
        "        DecoderLayer(d_model, num_heads, dropout)\n",
        "    ])\n",
        "    self.last_layer = Lastlayer(d_model, vocab_size)\n",
        "\n",
        "    self.linear = nn.Linear(768, d_model)\n",
        "\n",
        "  def forward(self, image_embeddings, txt):\n",
        "    \"\"\"\n",
        "    inputs:\n",
        "      txt: (N, max_length)\n",
        "      image_embeddings: (N, 7, 7, 576)\n",
        "    \"\"\"\n",
        "    x = self.seq_embedding(txt) # x: (N, max_length, d_model)\n",
        "    # transform image_embeddings to proper shape\n",
        "    image_embeddings = self.linear(image_embeddings)\n",
        "\n",
        "    for dec_layer in self.decoder_layers:\n",
        "      x = dec_layer((x, image_embeddings))\n",
        "\n",
        "    # x: (N, max_length, units)\n",
        "\n",
        "    x = self.last_layer(x) # (N, max_length, vocab_size)\n",
        "\n",
        "    return x"
      ],
      "metadata": {
        "id": "uN040G-4Newg"
      },
      "execution_count": 24,
      "outputs": []
    },
    {
      "cell_type": "code",
      "source": [
        "model = Captioner(vocab_size = 32000, max_length = 32, d_model = 512, num_heads = 8, dropout = 0.4)"
      ],
      "metadata": {
        "id": "H785By3CY1L-"
      },
      "execution_count": 25,
      "outputs": []
    },
    {
      "cell_type": "markdown",
      "source": [
        "### Load the model with weights"
      ],
      "metadata": {
        "id": "yYVeLH3ZWXsC"
      }
    },
    {
      "cell_type": "code",
      "source": [],
      "metadata": {
        "id": "7VlyjOwNHm5L"
      },
      "execution_count": 25,
      "outputs": []
    },
    {
      "cell_type": "markdown",
      "source": [
        "## Convert"
      ],
      "metadata": {
        "id": "yQdU-4r6Vgyg"
      }
    },
    {
      "cell_type": "markdown",
      "source": [
        "### Convet Decoder"
      ],
      "metadata": {
        "id": "rCC2hrh0Vwi6"
      }
    },
    {
      "cell_type": "markdown",
      "source": [
        "1. Create WrappedDecoder Model"
      ],
      "metadata": {
        "id": "PixP7HPSWcx0"
      }
    },
    {
      "cell_type": "code",
      "source": [
        "class WrappedDecoder(nn.Module):\n",
        "  def __init__(self, decoder):\n",
        "    super().__init__()\n",
        "    self.decoder = decoder\n",
        "\n",
        "  def forward(self, image_embeddings, txt):\n",
        "    logit = self.decoder(image_embeddings, txt)\n",
        "    pred = logit[:, i, :]\n",
        "    pred = F.softmax(pred, dim=-1)\n",
        "    next_word_index = pred.argmax(dim=-1)\n",
        "    return next_word_index"
      ],
      "metadata": {
        "id": "FaL8qjtiL77c"
      },
      "execution_count": 26,
      "outputs": []
    },
    {
      "cell_type": "code",
      "source": [
        "iOS_decoder_v2 = WrappedDecoder(model)"
      ],
      "metadata": {
        "id": "k8ChPOS_MbSh"
      },
      "execution_count": 27,
      "outputs": []
    },
    {
      "cell_type": "code",
      "source": [
        "pred = torch.rand(1, 32, 3000)[:, 2, :]\n",
        "pred = F.softmax(pred, dim=-1)\n",
        "print(pred.argmax(dim=-1).shape)"
      ],
      "metadata": {
        "colab": {
          "base_uri": "https://localhost:8080/"
        },
        "id": "0wtn6s8qefLo",
        "outputId": "0ebbfbf7-b5e9-42b9-c364-891e8613c713"
      },
      "execution_count": 41,
      "outputs": [
        {
          "output_type": "stream",
          "name": "stdout",
          "text": [
            "torch.Size([1])\n"
          ]
        }
      ]
    },
    {
      "cell_type": "markdown",
      "source": [
        "2. trace the wrapped model"
      ],
      "metadata": {
        "id": "F8MCCNoAXZ88"
      }
    },
    {
      "cell_type": "code",
      "source": [
        "example_txt_input = torch.randint(low=1, high=30000, size=(1, 32))\n",
        "example_image_embedding = torch.rand(1, 32, 768)"
      ],
      "metadata": {
        "id": "KE1YhJeHRxo7"
      },
      "execution_count": 28,
      "outputs": []
    },
    {
      "cell_type": "code",
      "source": [
        "traced_decoder_model = torch.jit.trace(iOS_decoder_v2, (example_image_embedding, example_txt_input))"
      ],
      "metadata": {
        "colab": {
          "base_uri": "https://localhost:8080/"
        },
        "id": "Zbtie4U6RzxI",
        "outputId": "6f9670c2-d89e-4ed3-d78e-ae1d2496ed18"
      },
      "execution_count": 29,
      "outputs": [
        {
          "output_type": "stream",
          "name": "stderr",
          "text": [
            "/usr/local/lib/python3.10/dist-packages/torch/jit/_trace.py:1116: TracerWarning: Output nr 1. of the traced function does not match the corresponding output of the repeated trace. Detailed error:\n",
            "Tensor-likes are not close!\n",
            "\n",
            "Mismatched elements: 1 / 1 (100.0%)\n",
            "Greatest absolute difference: 10894.0 at index (0,) (up to 0.0 allowed)\n",
            "Greatest relative difference: 0.6416161140232052 at index (0,) (up to 1e-05 allowed)\n",
            "  _check_trace(\n"
          ]
        }
      ]
    },
    {
      "cell_type": "markdown",
      "source": [
        "3. conver the traced model"
      ],
      "metadata": {
        "id": "RmC_6yztXcJU"
      }
    },
    {
      "cell_type": "code",
      "source": [
        "decoder_model = ct.convert(\n",
        "    traced_decoder_model,\n",
        "    convert_to=\"mlprogram\",\n",
        "    inputs=[ct.TensorType(shape=example_image_embedding.shape), ct.TensorType(shape=example_txt_input.shape)]\n",
        " )\n",
        "\n",
        "decoder_model.save(\"iOS_Decoder_V2.mlpackage\")"
      ],
      "metadata": {
        "colab": {
          "base_uri": "https://localhost:8080/"
        },
        "id": "9ZewO5JkR4lg",
        "outputId": "e192f25d-8973-4779-d9bf-6591b282d0e2"
      },
      "execution_count": 30,
      "outputs": [
        {
          "output_type": "stream",
          "name": "stderr",
          "text": [
            "WARNING:coremltools:Model is not in eval mode. Consider calling '.eval()' on your model prior to conversion\n",
            "Converting PyTorch Frontend ==> MIL Ops:  99%|█████████▉| 188/189 [00:00<00:00, 817.61 ops/s]\n",
            "Running MIL frontend_pytorch pipeline: 100%|██████████| 5/5 [00:00<00:00, 200.58 passes/s]\n",
            "Running MIL default pipeline:   0%|          | 0/78 [00:00<?, ? passes/s]/usr/local/lib/python3.10/dist-packages/coremltools/converters/mil/mil/passes/defs/preprocess.py:266: UserWarning: Output, '240', of the source model, has been renamed to 'var_240' in the Core ML model.\n",
            "  warnings.warn(msg.format(var.name, new_name))\n",
            "Running MIL default pipeline: 100%|██████████| 78/78 [00:02<00:00, 36.16 passes/s]\n",
            "Running MIL backend_mlprogram pipeline: 100%|██████████| 12/12 [00:00<00:00, 271.80 passes/s]\n"
          ]
        }
      ]
    },
    {
      "cell_type": "markdown",
      "source": [
        "4. zip the file and move it to google drive for faster download"
      ],
      "metadata": {
        "id": "j49zJwRiXeqz"
      }
    },
    {
      "cell_type": "code",
      "source": [
        "!zip -r iOS_Decoder_V2.zip iOS_Decoder_V2.mlpackage\n",
        "!cp iOS_Decoder_V2.zip /content/drive/MyDrive/"
      ],
      "metadata": {
        "id": "J7WPvslGVrya",
        "colab": {
          "base_uri": "https://localhost:8080/"
        },
        "outputId": "ff937578-e49b-42f9-f6f5-8b33d7a704ff"
      },
      "execution_count": 31,
      "outputs": [
        {
          "output_type": "stream",
          "name": "stdout",
          "text": [
            "  adding: iOS_Decoder_V2.mlpackage/ (stored 0%)\n",
            "  adding: iOS_Decoder_V2.mlpackage/Data/ (stored 0%)\n",
            "  adding: iOS_Decoder_V2.mlpackage/Data/com.apple.CoreML/ (stored 0%)\n",
            "  adding: iOS_Decoder_V2.mlpackage/Data/com.apple.CoreML/weights/ (stored 0%)\n",
            "  adding: iOS_Decoder_V2.mlpackage/Data/com.apple.CoreML/weights/weight.bin (deflated 9%)\n",
            "  adding: iOS_Decoder_V2.mlpackage/Data/com.apple.CoreML/model.mlmodel (deflated 81%)\n",
            "  adding: iOS_Decoder_V2.mlpackage/Manifest.json (deflated 60%)\n"
          ]
        }
      ]
    },
    {
      "cell_type": "markdown",
      "source": [
        "### Convert Encoder"
      ],
      "metadata": {
        "id": "zTWxtD_LWaAt"
      }
    },
    {
      "cell_type": "markdown",
      "source": [
        "1. Create a wrapped model\n"
      ],
      "metadata": {
        "id": "M56w183-XMQV"
      }
    },
    {
      "cell_type": "code",
      "source": [
        "weights = ViT_B_32_Weights.DEFAULT\n",
        "encoder = vit_b_32(weights=weights)\n",
        "encoder.heads = torch.nn.Identity()"
      ],
      "metadata": {
        "id": "UNBfN60OVtuW",
        "colab": {
          "base_uri": "https://localhost:8080/"
        },
        "outputId": "992ff41b-6f3a-421d-9a3c-85e87f6d31cf"
      },
      "execution_count": 32,
      "outputs": [
        {
          "output_type": "stream",
          "name": "stderr",
          "text": [
            "Downloading: \"https://download.pytorch.org/models/vit_b_32-d86f8d99.pth\" to /root/.cache/torch/hub/checkpoints/vit_b_32-d86f8d99.pth\n",
            "100%|██████████| 337M/337M [00:05<00:00, 64.3MB/s]\n"
          ]
        }
      ]
    },
    {
      "cell_type": "code",
      "source": [
        "preprocess = transforms.Compose([\n",
        "    transforms.Resize((224, 224)),\n",
        "    transforms.Normalize(mean=[0.485, 0.456, 0.406], std=[0.229, 0.224, 0.225])\n",
        "])\n",
        "\n",
        "class WrappedEncoder(nn.Module):\n",
        "    def __init__(self, encoder, preprocess):\n",
        "        super(WrappedEncoder, self).__init__()\n",
        "        self.encoder = encoder\n",
        "        self.preprocess = preprocess\n",
        "\n",
        "    def forward(self, x):\n",
        "        x = self.preprocess(x)\n",
        "        output = self.encoder(x)\n",
        "        output = output.repeat(32, 1)\n",
        "        output = output.unsqueeze(0)\n",
        "        return output\n",
        "\n",
        "iOS_Encoder = WrappedEncoder(encoder, preprocess)"
      ],
      "metadata": {
        "id": "ryon_rv4Wf17"
      },
      "execution_count": 33,
      "outputs": []
    },
    {
      "cell_type": "markdown",
      "source": [
        "2. trace the wrapped model"
      ],
      "metadata": {
        "id": "9DTdz2CcXO2i"
      }
    },
    {
      "cell_type": "code",
      "source": [
        "traced_encoder_model = torch.jit.trace(iOS_Encoder, torch.rand(1, 3, 224, 224))"
      ],
      "metadata": {
        "id": "3dNCIoB0iKKZ",
        "colab": {
          "base_uri": "https://localhost:8080/"
        },
        "outputId": "cc010daf-d234-4827-e075-cf09a785b92d"
      },
      "execution_count": 34,
      "outputs": [
        {
          "output_type": "stream",
          "name": "stderr",
          "text": [
            "/usr/local/lib/python3.10/dist-packages/torch/__init__.py:1559: TracerWarning: Converting a tensor to a Python boolean might cause the trace to be incorrect. We can't record the data flow of Python values, so this value will be treated as a constant in the future. This means that the trace might not generalize to other inputs!\n",
            "  assert condition, message\n"
          ]
        }
      ]
    },
    {
      "cell_type": "markdown",
      "source": [
        "3. convert the traced model"
      ],
      "metadata": {
        "id": "F6Bpey3WXQ-t"
      }
    },
    {
      "cell_type": "code",
      "source": [
        "encoder_model = ct.convert(\n",
        "    traced_encoder_model,\n",
        "    inputs=[ct.ImageType(shape=(1, 3, 224, 224))],\n",
        ")\n",
        "\n",
        "# Save the model to a file\n",
        "encoder_model.save(\"VIT_iOS_Encoder_v3.mlpackage\")"
      ],
      "metadata": {
        "colab": {
          "base_uri": "https://localhost:8080/"
        },
        "id": "cBE2Kkwzqzj6",
        "outputId": "0d5cc604-4dce-4ab9-9c8f-c03ae4a64b14"
      },
      "execution_count": 35,
      "outputs": [
        {
          "output_type": "stream",
          "name": "stderr",
          "text": [
            "WARNING:coremltools:When both 'convert_to' and 'minimum_deployment_target' not specified, 'convert_to' is set to \"mlprogram\" and 'minimum_deployment_target' is set to ct.target.iOS15 (which is same as ct.target.macOS12). Note: the model will not run on systems older than iOS15/macOS12/watchOS8/tvOS15. In order to make your model run on older system, please set the 'minimum_deployment_target' to iOS14/iOS13. Details please see the link: https://apple.github.io/coremltools/docs-guides/source/target-conversion-formats.html\n",
            "WARNING:coremltools:Model is not in eval mode. Consider calling '.eval()' on your model prior to conversion\n",
            "Converting PyTorch Frontend ==> MIL Ops: 100%|█████████▉| 1006/1007 [00:00<00:00, 1862.13 ops/s]\n",
            "Running MIL frontend_pytorch pipeline: 100%|██████████| 5/5 [00:00<00:00, 35.36 passes/s]\n",
            "Running MIL default pipeline:  12%|█▏        | 9/78 [00:00<00:01, 41.86 passes/s]/usr/local/lib/python3.10/dist-packages/coremltools/converters/mil/mil/passes/defs/preprocess.py:238: UserWarning: Input, 'x.1', of the source model, has been renamed to 'x_1' in the Core ML model.\n",
            "  warnings.warn(msg.format(var.name, new_name))\n",
            "/usr/local/lib/python3.10/dist-packages/coremltools/converters/mil/mil/passes/defs/preprocess.py:266: UserWarning: Output, '1271', of the source model, has been renamed to 'var_1271' in the Core ML model.\n",
            "  warnings.warn(msg.format(var.name, new_name))\n",
            "Running MIL default pipeline: 100%|██████████| 78/78 [00:13<00:00,  5.74 passes/s]\n",
            "Running MIL backend_mlprogram pipeline: 100%|██████████| 12/12 [00:00<00:00, 21.29 passes/s]\n"
          ]
        }
      ]
    },
    {
      "cell_type": "markdown",
      "source": [
        "4. zip the file and move it to google drive for faster download"
      ],
      "metadata": {
        "id": "deP4V6kCXTAK"
      }
    },
    {
      "cell_type": "code",
      "source": [
        "!zip -r VIT_iOS_Encoder_v3.zip VIT_iOS_Encoder_v3.mlpackage\n",
        "!cp VIT_iOS_Encoder_v3.zip /content/drive/MyDrive/"
      ],
      "metadata": {
        "id": "-xPUS5CIq_gB",
        "colab": {
          "base_uri": "https://localhost:8080/"
        },
        "outputId": "658acd6a-a7eb-4beb-8bb8-7b1a20f65ac7"
      },
      "execution_count": 36,
      "outputs": [
        {
          "output_type": "stream",
          "name": "stdout",
          "text": [
            "  adding: VIT_iOS_Encoder_v3.mlpackage/ (stored 0%)\n",
            "  adding: VIT_iOS_Encoder_v3.mlpackage/Data/ (stored 0%)\n",
            "  adding: VIT_iOS_Encoder_v3.mlpackage/Data/com.apple.CoreML/ (stored 0%)\n",
            "  adding: VIT_iOS_Encoder_v3.mlpackage/Data/com.apple.CoreML/weights/ (stored 0%)\n",
            "  adding: VIT_iOS_Encoder_v3.mlpackage/Data/com.apple.CoreML/weights/weight.bin (deflated 7%)\n",
            "  adding: VIT_iOS_Encoder_v3.mlpackage/Data/com.apple.CoreML/model.mlmodel (deflated 89%)\n",
            "  adding: VIT_iOS_Encoder_v3.mlpackage/Manifest.json (deflated 59%)\n"
          ]
        }
      ]
    },
    {
      "cell_type": "markdown",
      "source": [
        "## Create vocab file"
      ],
      "metadata": {
        "id": "-76dcdHBW-NL"
      }
    },
    {
      "cell_type": "code",
      "source": [
        "tokenizer = BertTokenizer.from_pretrained('bert-base-uncased')\n",
        "vocab = tokenizer.get_vocab()\n",
        "with open('index_to_word.json', 'w') as file:\n",
        "  json.dump({idx: token for token, idx in vocab.items()}, file)"
      ],
      "metadata": {
        "id": "5QmiL7HJ7D5Q",
        "colab": {
          "base_uri": "https://localhost:8080/",
          "height": 304,
          "referenced_widgets": [
            "54ebf3eb14e1439da38da35d20cd4097",
            "88732ef5aae640ebb97630451b70c688",
            "bb21f156dae441a7aadbac3b747a5f29",
            "e363356591364822aaf2d7ff958154a1",
            "624da9578ca44d47a2604d0c168ce212",
            "cd578717e7b548068b3b72da41068b9d",
            "4de2e05f022c44fea6e68a07648e8796",
            "0e73982ce0194266a1ec4811eb672911",
            "190d04d15fde4d5d8ad7da9e104d1d7f",
            "63f8103da5ea42ffb227d6c277216993",
            "c12525cdd09b41bb81bbadb46511156a",
            "b4857bd56fbb4a44add97be64cae475c",
            "1568988b03cb4e20b09bc49527ba4137",
            "b619e5ed941b46b3b0395a52613788bc",
            "3aa732d4d6da4080b4c14f58e3d637a3",
            "ec04dd33a60048699facc63d76be9d01",
            "2b825944503b49b6a60abc1bdd534d8d",
            "3d0f431c42344bd49acda05cf03c5643",
            "1c2aa9425f084fa09763015bb4e92718",
            "1b0ddbdc7cb9431fa4480f583976b309",
            "00785cd39e344595996e160d0dd0c943",
            "dff8778808974fb7b4ff811f972275b9",
            "5ad1aba758a5434ea12935149a4dbbea",
            "0a08ec381f98405a9c1c3faceade2405",
            "6a6f3b8e2f664639b1e5457511e5eedd",
            "3bfa3fb8541b48f5bb7f8ee0fb845d80",
            "91630979523d4106a72f6ec928df66f9",
            "66c2970d5a5842bca2f0e2c15436bb7e",
            "db349a72774642a299be1978ee311852",
            "abb1ebda31824e7890cffd15b02f9705",
            "214dfe25d1954b80bc61da08fa802edf",
            "f3bba4844eea4c67b954cb2d9e9cb90d",
            "3f949efdf72a4a5aa611ade2a9327d19",
            "24475d514b1e420fa9971fa27df28830",
            "65f52d2ba4474cfba364f053e07ef715",
            "5ed8c51c8caa497993bfba9818558e71",
            "e8dff2e5de014d14aed032b85630006a",
            "cb80eee02151416d85db2e3bc8826a92",
            "5f9053e2c853449a8bff3b551172432c",
            "4346dbc151d74c3fbf5b25e43cf010f3",
            "28bb8de0dc3f44cab12f31bc5712df77",
            "7ff05b5ac24c46fb90b793dac48737a7",
            "2a1ec75783fd4f3c91c50b2e644b2a4d",
            "1fca910c6ba24847b217fc5724f000b0"
          ]
        },
        "outputId": "3397a6a7-c05c-487f-cc00-c3d6454b2517"
      },
      "execution_count": 37,
      "outputs": [
        {
          "output_type": "stream",
          "name": "stderr",
          "text": [
            "/usr/local/lib/python3.10/dist-packages/huggingface_hub/utils/_token.py:89: UserWarning: \n",
            "The secret `HF_TOKEN` does not exist in your Colab secrets.\n",
            "To authenticate with the Hugging Face Hub, create a token in your settings tab (https://huggingface.co/settings/tokens), set it as secret in your Google Colab and restart your session.\n",
            "You will be able to reuse this secret in all of your notebooks.\n",
            "Please note that authentication is recommended but still optional to access public models or datasets.\n",
            "  warnings.warn(\n"
          ]
        },
        {
          "output_type": "display_data",
          "data": {
            "text/plain": [
              "tokenizer_config.json:   0%|          | 0.00/48.0 [00:00<?, ?B/s]"
            ],
            "application/vnd.jupyter.widget-view+json": {
              "version_major": 2,
              "version_minor": 0,
              "model_id": "54ebf3eb14e1439da38da35d20cd4097"
            }
          },
          "metadata": {}
        },
        {
          "output_type": "display_data",
          "data": {
            "text/plain": [
              "vocab.txt:   0%|          | 0.00/232k [00:00<?, ?B/s]"
            ],
            "application/vnd.jupyter.widget-view+json": {
              "version_major": 2,
              "version_minor": 0,
              "model_id": "b4857bd56fbb4a44add97be64cae475c"
            }
          },
          "metadata": {}
        },
        {
          "output_type": "display_data",
          "data": {
            "text/plain": [
              "tokenizer.json:   0%|          | 0.00/466k [00:00<?, ?B/s]"
            ],
            "application/vnd.jupyter.widget-view+json": {
              "version_major": 2,
              "version_minor": 0,
              "model_id": "5ad1aba758a5434ea12935149a4dbbea"
            }
          },
          "metadata": {}
        },
        {
          "output_type": "stream",
          "name": "stderr",
          "text": [
            "/usr/local/lib/python3.10/dist-packages/huggingface_hub/file_download.py:1132: FutureWarning: `resume_download` is deprecated and will be removed in version 1.0.0. Downloads always resume when possible. If you want to force a new download, use `force_download=True`.\n",
            "  warnings.warn(\n"
          ]
        },
        {
          "output_type": "display_data",
          "data": {
            "text/plain": [
              "config.json:   0%|          | 0.00/570 [00:00<?, ?B/s]"
            ],
            "application/vnd.jupyter.widget-view+json": {
              "version_major": 2,
              "version_minor": 0,
              "model_id": "24475d514b1e420fa9971fa27df28830"
            }
          },
          "metadata": {}
        }
      ]
    },
    {
      "cell_type": "code",
      "source": [],
      "metadata": {
        "id": "n5GMKQyKTklE"
      },
      "execution_count": null,
      "outputs": []
    }
  ]
}