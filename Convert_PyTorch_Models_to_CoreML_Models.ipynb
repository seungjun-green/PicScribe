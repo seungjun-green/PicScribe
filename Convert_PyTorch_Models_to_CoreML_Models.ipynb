{
  "nbformat": 4,
  "nbformat_minor": 0,
  "metadata": {
    "colab": {
      "provenance": [],
      "collapsed_sections": [
        "A8S-UDHRLitr"
      ],
      "gpuType": "T4"
    },
    "kernelspec": {
      "name": "python3",
      "display_name": "Python 3"
    },
    "language_info": {
      "name": "python"
    },
    "widgets": {
      "application/vnd.jupyter.widget-state+json": {
        "265434c4d08340c2ad3a40bfffda7e57": {
          "model_module": "@jupyter-widgets/controls",
          "model_name": "HBoxModel",
          "model_module_version": "1.5.0",
          "state": {
            "_dom_classes": [],
            "_model_module": "@jupyter-widgets/controls",
            "_model_module_version": "1.5.0",
            "_model_name": "HBoxModel",
            "_view_count": null,
            "_view_module": "@jupyter-widgets/controls",
            "_view_module_version": "1.5.0",
            "_view_name": "HBoxView",
            "box_style": "",
            "children": [
              "IPY_MODEL_75df31c0cdf648fd8b84bf82f6f0b50d",
              "IPY_MODEL_842eab8c82d64ce69a4862b78744836e",
              "IPY_MODEL_f4d5b0dc67784fb6b8f9de4547530abd"
            ],
            "layout": "IPY_MODEL_c459212057b14566a00a81e4269e0b64"
          }
        },
        "75df31c0cdf648fd8b84bf82f6f0b50d": {
          "model_module": "@jupyter-widgets/controls",
          "model_name": "HTMLModel",
          "model_module_version": "1.5.0",
          "state": {
            "_dom_classes": [],
            "_model_module": "@jupyter-widgets/controls",
            "_model_module_version": "1.5.0",
            "_model_name": "HTMLModel",
            "_view_count": null,
            "_view_module": "@jupyter-widgets/controls",
            "_view_module_version": "1.5.0",
            "_view_name": "HTMLView",
            "description": "",
            "description_tooltip": null,
            "layout": "IPY_MODEL_ad6b4046103a419fb110175509714ade",
            "placeholder": "​",
            "style": "IPY_MODEL_68b8a680f3c84271ae1b910d12ad430b",
            "value": "tokenizer_config.json: 100%"
          }
        },
        "842eab8c82d64ce69a4862b78744836e": {
          "model_module": "@jupyter-widgets/controls",
          "model_name": "FloatProgressModel",
          "model_module_version": "1.5.0",
          "state": {
            "_dom_classes": [],
            "_model_module": "@jupyter-widgets/controls",
            "_model_module_version": "1.5.0",
            "_model_name": "FloatProgressModel",
            "_view_count": null,
            "_view_module": "@jupyter-widgets/controls",
            "_view_module_version": "1.5.0",
            "_view_name": "ProgressView",
            "bar_style": "success",
            "description": "",
            "description_tooltip": null,
            "layout": "IPY_MODEL_2758457a4b244a12a55867483c5755ac",
            "max": 48,
            "min": 0,
            "orientation": "horizontal",
            "style": "IPY_MODEL_c69ac22683e1484487bee5d0bebfbe9f",
            "value": 48
          }
        },
        "f4d5b0dc67784fb6b8f9de4547530abd": {
          "model_module": "@jupyter-widgets/controls",
          "model_name": "HTMLModel",
          "model_module_version": "1.5.0",
          "state": {
            "_dom_classes": [],
            "_model_module": "@jupyter-widgets/controls",
            "_model_module_version": "1.5.0",
            "_model_name": "HTMLModel",
            "_view_count": null,
            "_view_module": "@jupyter-widgets/controls",
            "_view_module_version": "1.5.0",
            "_view_name": "HTMLView",
            "description": "",
            "description_tooltip": null,
            "layout": "IPY_MODEL_c7853ccbd7ed40969c82fe9c90bd2fcd",
            "placeholder": "​",
            "style": "IPY_MODEL_5e236ddc015f468ab2391dc2e7d1bbce",
            "value": " 48.0/48.0 [00:00&lt;00:00, 2.27kB/s]"
          }
        },
        "c459212057b14566a00a81e4269e0b64": {
          "model_module": "@jupyter-widgets/base",
          "model_name": "LayoutModel",
          "model_module_version": "1.2.0",
          "state": {
            "_model_module": "@jupyter-widgets/base",
            "_model_module_version": "1.2.0",
            "_model_name": "LayoutModel",
            "_view_count": null,
            "_view_module": "@jupyter-widgets/base",
            "_view_module_version": "1.2.0",
            "_view_name": "LayoutView",
            "align_content": null,
            "align_items": null,
            "align_self": null,
            "border": null,
            "bottom": null,
            "display": null,
            "flex": null,
            "flex_flow": null,
            "grid_area": null,
            "grid_auto_columns": null,
            "grid_auto_flow": null,
            "grid_auto_rows": null,
            "grid_column": null,
            "grid_gap": null,
            "grid_row": null,
            "grid_template_areas": null,
            "grid_template_columns": null,
            "grid_template_rows": null,
            "height": null,
            "justify_content": null,
            "justify_items": null,
            "left": null,
            "margin": null,
            "max_height": null,
            "max_width": null,
            "min_height": null,
            "min_width": null,
            "object_fit": null,
            "object_position": null,
            "order": null,
            "overflow": null,
            "overflow_x": null,
            "overflow_y": null,
            "padding": null,
            "right": null,
            "top": null,
            "visibility": null,
            "width": null
          }
        },
        "ad6b4046103a419fb110175509714ade": {
          "model_module": "@jupyter-widgets/base",
          "model_name": "LayoutModel",
          "model_module_version": "1.2.0",
          "state": {
            "_model_module": "@jupyter-widgets/base",
            "_model_module_version": "1.2.0",
            "_model_name": "LayoutModel",
            "_view_count": null,
            "_view_module": "@jupyter-widgets/base",
            "_view_module_version": "1.2.0",
            "_view_name": "LayoutView",
            "align_content": null,
            "align_items": null,
            "align_self": null,
            "border": null,
            "bottom": null,
            "display": null,
            "flex": null,
            "flex_flow": null,
            "grid_area": null,
            "grid_auto_columns": null,
            "grid_auto_flow": null,
            "grid_auto_rows": null,
            "grid_column": null,
            "grid_gap": null,
            "grid_row": null,
            "grid_template_areas": null,
            "grid_template_columns": null,
            "grid_template_rows": null,
            "height": null,
            "justify_content": null,
            "justify_items": null,
            "left": null,
            "margin": null,
            "max_height": null,
            "max_width": null,
            "min_height": null,
            "min_width": null,
            "object_fit": null,
            "object_position": null,
            "order": null,
            "overflow": null,
            "overflow_x": null,
            "overflow_y": null,
            "padding": null,
            "right": null,
            "top": null,
            "visibility": null,
            "width": null
          }
        },
        "68b8a680f3c84271ae1b910d12ad430b": {
          "model_module": "@jupyter-widgets/controls",
          "model_name": "DescriptionStyleModel",
          "model_module_version": "1.5.0",
          "state": {
            "_model_module": "@jupyter-widgets/controls",
            "_model_module_version": "1.5.0",
            "_model_name": "DescriptionStyleModel",
            "_view_count": null,
            "_view_module": "@jupyter-widgets/base",
            "_view_module_version": "1.2.0",
            "_view_name": "StyleView",
            "description_width": ""
          }
        },
        "2758457a4b244a12a55867483c5755ac": {
          "model_module": "@jupyter-widgets/base",
          "model_name": "LayoutModel",
          "model_module_version": "1.2.0",
          "state": {
            "_model_module": "@jupyter-widgets/base",
            "_model_module_version": "1.2.0",
            "_model_name": "LayoutModel",
            "_view_count": null,
            "_view_module": "@jupyter-widgets/base",
            "_view_module_version": "1.2.0",
            "_view_name": "LayoutView",
            "align_content": null,
            "align_items": null,
            "align_self": null,
            "border": null,
            "bottom": null,
            "display": null,
            "flex": null,
            "flex_flow": null,
            "grid_area": null,
            "grid_auto_columns": null,
            "grid_auto_flow": null,
            "grid_auto_rows": null,
            "grid_column": null,
            "grid_gap": null,
            "grid_row": null,
            "grid_template_areas": null,
            "grid_template_columns": null,
            "grid_template_rows": null,
            "height": null,
            "justify_content": null,
            "justify_items": null,
            "left": null,
            "margin": null,
            "max_height": null,
            "max_width": null,
            "min_height": null,
            "min_width": null,
            "object_fit": null,
            "object_position": null,
            "order": null,
            "overflow": null,
            "overflow_x": null,
            "overflow_y": null,
            "padding": null,
            "right": null,
            "top": null,
            "visibility": null,
            "width": null
          }
        },
        "c69ac22683e1484487bee5d0bebfbe9f": {
          "model_module": "@jupyter-widgets/controls",
          "model_name": "ProgressStyleModel",
          "model_module_version": "1.5.0",
          "state": {
            "_model_module": "@jupyter-widgets/controls",
            "_model_module_version": "1.5.0",
            "_model_name": "ProgressStyleModel",
            "_view_count": null,
            "_view_module": "@jupyter-widgets/base",
            "_view_module_version": "1.2.0",
            "_view_name": "StyleView",
            "bar_color": null,
            "description_width": ""
          }
        },
        "c7853ccbd7ed40969c82fe9c90bd2fcd": {
          "model_module": "@jupyter-widgets/base",
          "model_name": "LayoutModel",
          "model_module_version": "1.2.0",
          "state": {
            "_model_module": "@jupyter-widgets/base",
            "_model_module_version": "1.2.0",
            "_model_name": "LayoutModel",
            "_view_count": null,
            "_view_module": "@jupyter-widgets/base",
            "_view_module_version": "1.2.0",
            "_view_name": "LayoutView",
            "align_content": null,
            "align_items": null,
            "align_self": null,
            "border": null,
            "bottom": null,
            "display": null,
            "flex": null,
            "flex_flow": null,
            "grid_area": null,
            "grid_auto_columns": null,
            "grid_auto_flow": null,
            "grid_auto_rows": null,
            "grid_column": null,
            "grid_gap": null,
            "grid_row": null,
            "grid_template_areas": null,
            "grid_template_columns": null,
            "grid_template_rows": null,
            "height": null,
            "justify_content": null,
            "justify_items": null,
            "left": null,
            "margin": null,
            "max_height": null,
            "max_width": null,
            "min_height": null,
            "min_width": null,
            "object_fit": null,
            "object_position": null,
            "order": null,
            "overflow": null,
            "overflow_x": null,
            "overflow_y": null,
            "padding": null,
            "right": null,
            "top": null,
            "visibility": null,
            "width": null
          }
        },
        "5e236ddc015f468ab2391dc2e7d1bbce": {
          "model_module": "@jupyter-widgets/controls",
          "model_name": "DescriptionStyleModel",
          "model_module_version": "1.5.0",
          "state": {
            "_model_module": "@jupyter-widgets/controls",
            "_model_module_version": "1.5.0",
            "_model_name": "DescriptionStyleModel",
            "_view_count": null,
            "_view_module": "@jupyter-widgets/base",
            "_view_module_version": "1.2.0",
            "_view_name": "StyleView",
            "description_width": ""
          }
        },
        "49b1ca86b082413baf79aaacbf0e3c27": {
          "model_module": "@jupyter-widgets/controls",
          "model_name": "HBoxModel",
          "model_module_version": "1.5.0",
          "state": {
            "_dom_classes": [],
            "_model_module": "@jupyter-widgets/controls",
            "_model_module_version": "1.5.0",
            "_model_name": "HBoxModel",
            "_view_count": null,
            "_view_module": "@jupyter-widgets/controls",
            "_view_module_version": "1.5.0",
            "_view_name": "HBoxView",
            "box_style": "",
            "children": [
              "IPY_MODEL_eb0a97d1a1134016a798042b16410fe2",
              "IPY_MODEL_4762213c668e42b7a6f9cfc0a01fa38b",
              "IPY_MODEL_aa2904ba9a214100829fb5901a0fd22b"
            ],
            "layout": "IPY_MODEL_3334aa615bbf420eaddbec25013733fc"
          }
        },
        "eb0a97d1a1134016a798042b16410fe2": {
          "model_module": "@jupyter-widgets/controls",
          "model_name": "HTMLModel",
          "model_module_version": "1.5.0",
          "state": {
            "_dom_classes": [],
            "_model_module": "@jupyter-widgets/controls",
            "_model_module_version": "1.5.0",
            "_model_name": "HTMLModel",
            "_view_count": null,
            "_view_module": "@jupyter-widgets/controls",
            "_view_module_version": "1.5.0",
            "_view_name": "HTMLView",
            "description": "",
            "description_tooltip": null,
            "layout": "IPY_MODEL_e728a616170b4c6b861f9165cc53167f",
            "placeholder": "​",
            "style": "IPY_MODEL_8b82216b605d4118a8851fabfaff926f",
            "value": "vocab.txt: 100%"
          }
        },
        "4762213c668e42b7a6f9cfc0a01fa38b": {
          "model_module": "@jupyter-widgets/controls",
          "model_name": "FloatProgressModel",
          "model_module_version": "1.5.0",
          "state": {
            "_dom_classes": [],
            "_model_module": "@jupyter-widgets/controls",
            "_model_module_version": "1.5.0",
            "_model_name": "FloatProgressModel",
            "_view_count": null,
            "_view_module": "@jupyter-widgets/controls",
            "_view_module_version": "1.5.0",
            "_view_name": "ProgressView",
            "bar_style": "success",
            "description": "",
            "description_tooltip": null,
            "layout": "IPY_MODEL_e748f144f697468eb7ce7587cd631f27",
            "max": 231508,
            "min": 0,
            "orientation": "horizontal",
            "style": "IPY_MODEL_e00d3bceed0a47328de2bcb32c7646c5",
            "value": 231508
          }
        },
        "aa2904ba9a214100829fb5901a0fd22b": {
          "model_module": "@jupyter-widgets/controls",
          "model_name": "HTMLModel",
          "model_module_version": "1.5.0",
          "state": {
            "_dom_classes": [],
            "_model_module": "@jupyter-widgets/controls",
            "_model_module_version": "1.5.0",
            "_model_name": "HTMLModel",
            "_view_count": null,
            "_view_module": "@jupyter-widgets/controls",
            "_view_module_version": "1.5.0",
            "_view_name": "HTMLView",
            "description": "",
            "description_tooltip": null,
            "layout": "IPY_MODEL_e9618d58e7584e608e91a3944bdbf1fd",
            "placeholder": "​",
            "style": "IPY_MODEL_785c1f9dd0b743758c45d6bfbae7ba24",
            "value": " 232k/232k [00:00&lt;00:00, 8.07MB/s]"
          }
        },
        "3334aa615bbf420eaddbec25013733fc": {
          "model_module": "@jupyter-widgets/base",
          "model_name": "LayoutModel",
          "model_module_version": "1.2.0",
          "state": {
            "_model_module": "@jupyter-widgets/base",
            "_model_module_version": "1.2.0",
            "_model_name": "LayoutModel",
            "_view_count": null,
            "_view_module": "@jupyter-widgets/base",
            "_view_module_version": "1.2.0",
            "_view_name": "LayoutView",
            "align_content": null,
            "align_items": null,
            "align_self": null,
            "border": null,
            "bottom": null,
            "display": null,
            "flex": null,
            "flex_flow": null,
            "grid_area": null,
            "grid_auto_columns": null,
            "grid_auto_flow": null,
            "grid_auto_rows": null,
            "grid_column": null,
            "grid_gap": null,
            "grid_row": null,
            "grid_template_areas": null,
            "grid_template_columns": null,
            "grid_template_rows": null,
            "height": null,
            "justify_content": null,
            "justify_items": null,
            "left": null,
            "margin": null,
            "max_height": null,
            "max_width": null,
            "min_height": null,
            "min_width": null,
            "object_fit": null,
            "object_position": null,
            "order": null,
            "overflow": null,
            "overflow_x": null,
            "overflow_y": null,
            "padding": null,
            "right": null,
            "top": null,
            "visibility": null,
            "width": null
          }
        },
        "e728a616170b4c6b861f9165cc53167f": {
          "model_module": "@jupyter-widgets/base",
          "model_name": "LayoutModel",
          "model_module_version": "1.2.0",
          "state": {
            "_model_module": "@jupyter-widgets/base",
            "_model_module_version": "1.2.0",
            "_model_name": "LayoutModel",
            "_view_count": null,
            "_view_module": "@jupyter-widgets/base",
            "_view_module_version": "1.2.0",
            "_view_name": "LayoutView",
            "align_content": null,
            "align_items": null,
            "align_self": null,
            "border": null,
            "bottom": null,
            "display": null,
            "flex": null,
            "flex_flow": null,
            "grid_area": null,
            "grid_auto_columns": null,
            "grid_auto_flow": null,
            "grid_auto_rows": null,
            "grid_column": null,
            "grid_gap": null,
            "grid_row": null,
            "grid_template_areas": null,
            "grid_template_columns": null,
            "grid_template_rows": null,
            "height": null,
            "justify_content": null,
            "justify_items": null,
            "left": null,
            "margin": null,
            "max_height": null,
            "max_width": null,
            "min_height": null,
            "min_width": null,
            "object_fit": null,
            "object_position": null,
            "order": null,
            "overflow": null,
            "overflow_x": null,
            "overflow_y": null,
            "padding": null,
            "right": null,
            "top": null,
            "visibility": null,
            "width": null
          }
        },
        "8b82216b605d4118a8851fabfaff926f": {
          "model_module": "@jupyter-widgets/controls",
          "model_name": "DescriptionStyleModel",
          "model_module_version": "1.5.0",
          "state": {
            "_model_module": "@jupyter-widgets/controls",
            "_model_module_version": "1.5.0",
            "_model_name": "DescriptionStyleModel",
            "_view_count": null,
            "_view_module": "@jupyter-widgets/base",
            "_view_module_version": "1.2.0",
            "_view_name": "StyleView",
            "description_width": ""
          }
        },
        "e748f144f697468eb7ce7587cd631f27": {
          "model_module": "@jupyter-widgets/base",
          "model_name": "LayoutModel",
          "model_module_version": "1.2.0",
          "state": {
            "_model_module": "@jupyter-widgets/base",
            "_model_module_version": "1.2.0",
            "_model_name": "LayoutModel",
            "_view_count": null,
            "_view_module": "@jupyter-widgets/base",
            "_view_module_version": "1.2.0",
            "_view_name": "LayoutView",
            "align_content": null,
            "align_items": null,
            "align_self": null,
            "border": null,
            "bottom": null,
            "display": null,
            "flex": null,
            "flex_flow": null,
            "grid_area": null,
            "grid_auto_columns": null,
            "grid_auto_flow": null,
            "grid_auto_rows": null,
            "grid_column": null,
            "grid_gap": null,
            "grid_row": null,
            "grid_template_areas": null,
            "grid_template_columns": null,
            "grid_template_rows": null,
            "height": null,
            "justify_content": null,
            "justify_items": null,
            "left": null,
            "margin": null,
            "max_height": null,
            "max_width": null,
            "min_height": null,
            "min_width": null,
            "object_fit": null,
            "object_position": null,
            "order": null,
            "overflow": null,
            "overflow_x": null,
            "overflow_y": null,
            "padding": null,
            "right": null,
            "top": null,
            "visibility": null,
            "width": null
          }
        },
        "e00d3bceed0a47328de2bcb32c7646c5": {
          "model_module": "@jupyter-widgets/controls",
          "model_name": "ProgressStyleModel",
          "model_module_version": "1.5.0",
          "state": {
            "_model_module": "@jupyter-widgets/controls",
            "_model_module_version": "1.5.0",
            "_model_name": "ProgressStyleModel",
            "_view_count": null,
            "_view_module": "@jupyter-widgets/base",
            "_view_module_version": "1.2.0",
            "_view_name": "StyleView",
            "bar_color": null,
            "description_width": ""
          }
        },
        "e9618d58e7584e608e91a3944bdbf1fd": {
          "model_module": "@jupyter-widgets/base",
          "model_name": "LayoutModel",
          "model_module_version": "1.2.0",
          "state": {
            "_model_module": "@jupyter-widgets/base",
            "_model_module_version": "1.2.0",
            "_model_name": "LayoutModel",
            "_view_count": null,
            "_view_module": "@jupyter-widgets/base",
            "_view_module_version": "1.2.0",
            "_view_name": "LayoutView",
            "align_content": null,
            "align_items": null,
            "align_self": null,
            "border": null,
            "bottom": null,
            "display": null,
            "flex": null,
            "flex_flow": null,
            "grid_area": null,
            "grid_auto_columns": null,
            "grid_auto_flow": null,
            "grid_auto_rows": null,
            "grid_column": null,
            "grid_gap": null,
            "grid_row": null,
            "grid_template_areas": null,
            "grid_template_columns": null,
            "grid_template_rows": null,
            "height": null,
            "justify_content": null,
            "justify_items": null,
            "left": null,
            "margin": null,
            "max_height": null,
            "max_width": null,
            "min_height": null,
            "min_width": null,
            "object_fit": null,
            "object_position": null,
            "order": null,
            "overflow": null,
            "overflow_x": null,
            "overflow_y": null,
            "padding": null,
            "right": null,
            "top": null,
            "visibility": null,
            "width": null
          }
        },
        "785c1f9dd0b743758c45d6bfbae7ba24": {
          "model_module": "@jupyter-widgets/controls",
          "model_name": "DescriptionStyleModel",
          "model_module_version": "1.5.0",
          "state": {
            "_model_module": "@jupyter-widgets/controls",
            "_model_module_version": "1.5.0",
            "_model_name": "DescriptionStyleModel",
            "_view_count": null,
            "_view_module": "@jupyter-widgets/base",
            "_view_module_version": "1.2.0",
            "_view_name": "StyleView",
            "description_width": ""
          }
        },
        "d435bcaab7ca4beb89df606510179e87": {
          "model_module": "@jupyter-widgets/controls",
          "model_name": "HBoxModel",
          "model_module_version": "1.5.0",
          "state": {
            "_dom_classes": [],
            "_model_module": "@jupyter-widgets/controls",
            "_model_module_version": "1.5.0",
            "_model_name": "HBoxModel",
            "_view_count": null,
            "_view_module": "@jupyter-widgets/controls",
            "_view_module_version": "1.5.0",
            "_view_name": "HBoxView",
            "box_style": "",
            "children": [
              "IPY_MODEL_6ba30a04a4b748348514312ca17249e4",
              "IPY_MODEL_311580c22c124c619a0cb71c7e2f8abe",
              "IPY_MODEL_783dae4ec1c44d17bf55ecb9444a7439"
            ],
            "layout": "IPY_MODEL_18a764fda3ec47bb8a8c4ea3e0816d18"
          }
        },
        "6ba30a04a4b748348514312ca17249e4": {
          "model_module": "@jupyter-widgets/controls",
          "model_name": "HTMLModel",
          "model_module_version": "1.5.0",
          "state": {
            "_dom_classes": [],
            "_model_module": "@jupyter-widgets/controls",
            "_model_module_version": "1.5.0",
            "_model_name": "HTMLModel",
            "_view_count": null,
            "_view_module": "@jupyter-widgets/controls",
            "_view_module_version": "1.5.0",
            "_view_name": "HTMLView",
            "description": "",
            "description_tooltip": null,
            "layout": "IPY_MODEL_3257444bece6426295bf761530c52701",
            "placeholder": "​",
            "style": "IPY_MODEL_1e92599d97514c7080b8efe91ca08fb6",
            "value": "tokenizer.json: 100%"
          }
        },
        "311580c22c124c619a0cb71c7e2f8abe": {
          "model_module": "@jupyter-widgets/controls",
          "model_name": "FloatProgressModel",
          "model_module_version": "1.5.0",
          "state": {
            "_dom_classes": [],
            "_model_module": "@jupyter-widgets/controls",
            "_model_module_version": "1.5.0",
            "_model_name": "FloatProgressModel",
            "_view_count": null,
            "_view_module": "@jupyter-widgets/controls",
            "_view_module_version": "1.5.0",
            "_view_name": "ProgressView",
            "bar_style": "success",
            "description": "",
            "description_tooltip": null,
            "layout": "IPY_MODEL_358bb3feca374be586d6257e5d23b798",
            "max": 466062,
            "min": 0,
            "orientation": "horizontal",
            "style": "IPY_MODEL_165607f2032944e1a187f4688d5becb9",
            "value": 466062
          }
        },
        "783dae4ec1c44d17bf55ecb9444a7439": {
          "model_module": "@jupyter-widgets/controls",
          "model_name": "HTMLModel",
          "model_module_version": "1.5.0",
          "state": {
            "_dom_classes": [],
            "_model_module": "@jupyter-widgets/controls",
            "_model_module_version": "1.5.0",
            "_model_name": "HTMLModel",
            "_view_count": null,
            "_view_module": "@jupyter-widgets/controls",
            "_view_module_version": "1.5.0",
            "_view_name": "HTMLView",
            "description": "",
            "description_tooltip": null,
            "layout": "IPY_MODEL_af663170dc2d40b7bd5413460dca934e",
            "placeholder": "​",
            "style": "IPY_MODEL_80db78dc92444020b052aaa4e85696c2",
            "value": " 466k/466k [00:00&lt;00:00, 2.10MB/s]"
          }
        },
        "18a764fda3ec47bb8a8c4ea3e0816d18": {
          "model_module": "@jupyter-widgets/base",
          "model_name": "LayoutModel",
          "model_module_version": "1.2.0",
          "state": {
            "_model_module": "@jupyter-widgets/base",
            "_model_module_version": "1.2.0",
            "_model_name": "LayoutModel",
            "_view_count": null,
            "_view_module": "@jupyter-widgets/base",
            "_view_module_version": "1.2.0",
            "_view_name": "LayoutView",
            "align_content": null,
            "align_items": null,
            "align_self": null,
            "border": null,
            "bottom": null,
            "display": null,
            "flex": null,
            "flex_flow": null,
            "grid_area": null,
            "grid_auto_columns": null,
            "grid_auto_flow": null,
            "grid_auto_rows": null,
            "grid_column": null,
            "grid_gap": null,
            "grid_row": null,
            "grid_template_areas": null,
            "grid_template_columns": null,
            "grid_template_rows": null,
            "height": null,
            "justify_content": null,
            "justify_items": null,
            "left": null,
            "margin": null,
            "max_height": null,
            "max_width": null,
            "min_height": null,
            "min_width": null,
            "object_fit": null,
            "object_position": null,
            "order": null,
            "overflow": null,
            "overflow_x": null,
            "overflow_y": null,
            "padding": null,
            "right": null,
            "top": null,
            "visibility": null,
            "width": null
          }
        },
        "3257444bece6426295bf761530c52701": {
          "model_module": "@jupyter-widgets/base",
          "model_name": "LayoutModel",
          "model_module_version": "1.2.0",
          "state": {
            "_model_module": "@jupyter-widgets/base",
            "_model_module_version": "1.2.0",
            "_model_name": "LayoutModel",
            "_view_count": null,
            "_view_module": "@jupyter-widgets/base",
            "_view_module_version": "1.2.0",
            "_view_name": "LayoutView",
            "align_content": null,
            "align_items": null,
            "align_self": null,
            "border": null,
            "bottom": null,
            "display": null,
            "flex": null,
            "flex_flow": null,
            "grid_area": null,
            "grid_auto_columns": null,
            "grid_auto_flow": null,
            "grid_auto_rows": null,
            "grid_column": null,
            "grid_gap": null,
            "grid_row": null,
            "grid_template_areas": null,
            "grid_template_columns": null,
            "grid_template_rows": null,
            "height": null,
            "justify_content": null,
            "justify_items": null,
            "left": null,
            "margin": null,
            "max_height": null,
            "max_width": null,
            "min_height": null,
            "min_width": null,
            "object_fit": null,
            "object_position": null,
            "order": null,
            "overflow": null,
            "overflow_x": null,
            "overflow_y": null,
            "padding": null,
            "right": null,
            "top": null,
            "visibility": null,
            "width": null
          }
        },
        "1e92599d97514c7080b8efe91ca08fb6": {
          "model_module": "@jupyter-widgets/controls",
          "model_name": "DescriptionStyleModel",
          "model_module_version": "1.5.0",
          "state": {
            "_model_module": "@jupyter-widgets/controls",
            "_model_module_version": "1.5.0",
            "_model_name": "DescriptionStyleModel",
            "_view_count": null,
            "_view_module": "@jupyter-widgets/base",
            "_view_module_version": "1.2.0",
            "_view_name": "StyleView",
            "description_width": ""
          }
        },
        "358bb3feca374be586d6257e5d23b798": {
          "model_module": "@jupyter-widgets/base",
          "model_name": "LayoutModel",
          "model_module_version": "1.2.0",
          "state": {
            "_model_module": "@jupyter-widgets/base",
            "_model_module_version": "1.2.0",
            "_model_name": "LayoutModel",
            "_view_count": null,
            "_view_module": "@jupyter-widgets/base",
            "_view_module_version": "1.2.0",
            "_view_name": "LayoutView",
            "align_content": null,
            "align_items": null,
            "align_self": null,
            "border": null,
            "bottom": null,
            "display": null,
            "flex": null,
            "flex_flow": null,
            "grid_area": null,
            "grid_auto_columns": null,
            "grid_auto_flow": null,
            "grid_auto_rows": null,
            "grid_column": null,
            "grid_gap": null,
            "grid_row": null,
            "grid_template_areas": null,
            "grid_template_columns": null,
            "grid_template_rows": null,
            "height": null,
            "justify_content": null,
            "justify_items": null,
            "left": null,
            "margin": null,
            "max_height": null,
            "max_width": null,
            "min_height": null,
            "min_width": null,
            "object_fit": null,
            "object_position": null,
            "order": null,
            "overflow": null,
            "overflow_x": null,
            "overflow_y": null,
            "padding": null,
            "right": null,
            "top": null,
            "visibility": null,
            "width": null
          }
        },
        "165607f2032944e1a187f4688d5becb9": {
          "model_module": "@jupyter-widgets/controls",
          "model_name": "ProgressStyleModel",
          "model_module_version": "1.5.0",
          "state": {
            "_model_module": "@jupyter-widgets/controls",
            "_model_module_version": "1.5.0",
            "_model_name": "ProgressStyleModel",
            "_view_count": null,
            "_view_module": "@jupyter-widgets/base",
            "_view_module_version": "1.2.0",
            "_view_name": "StyleView",
            "bar_color": null,
            "description_width": ""
          }
        },
        "af663170dc2d40b7bd5413460dca934e": {
          "model_module": "@jupyter-widgets/base",
          "model_name": "LayoutModel",
          "model_module_version": "1.2.0",
          "state": {
            "_model_module": "@jupyter-widgets/base",
            "_model_module_version": "1.2.0",
            "_model_name": "LayoutModel",
            "_view_count": null,
            "_view_module": "@jupyter-widgets/base",
            "_view_module_version": "1.2.0",
            "_view_name": "LayoutView",
            "align_content": null,
            "align_items": null,
            "align_self": null,
            "border": null,
            "bottom": null,
            "display": null,
            "flex": null,
            "flex_flow": null,
            "grid_area": null,
            "grid_auto_columns": null,
            "grid_auto_flow": null,
            "grid_auto_rows": null,
            "grid_column": null,
            "grid_gap": null,
            "grid_row": null,
            "grid_template_areas": null,
            "grid_template_columns": null,
            "grid_template_rows": null,
            "height": null,
            "justify_content": null,
            "justify_items": null,
            "left": null,
            "margin": null,
            "max_height": null,
            "max_width": null,
            "min_height": null,
            "min_width": null,
            "object_fit": null,
            "object_position": null,
            "order": null,
            "overflow": null,
            "overflow_x": null,
            "overflow_y": null,
            "padding": null,
            "right": null,
            "top": null,
            "visibility": null,
            "width": null
          }
        },
        "80db78dc92444020b052aaa4e85696c2": {
          "model_module": "@jupyter-widgets/controls",
          "model_name": "DescriptionStyleModel",
          "model_module_version": "1.5.0",
          "state": {
            "_model_module": "@jupyter-widgets/controls",
            "_model_module_version": "1.5.0",
            "_model_name": "DescriptionStyleModel",
            "_view_count": null,
            "_view_module": "@jupyter-widgets/base",
            "_view_module_version": "1.2.0",
            "_view_name": "StyleView",
            "description_width": ""
          }
        },
        "f922903d804d42268adbfb50f59e560c": {
          "model_module": "@jupyter-widgets/controls",
          "model_name": "HBoxModel",
          "model_module_version": "1.5.0",
          "state": {
            "_dom_classes": [],
            "_model_module": "@jupyter-widgets/controls",
            "_model_module_version": "1.5.0",
            "_model_name": "HBoxModel",
            "_view_count": null,
            "_view_module": "@jupyter-widgets/controls",
            "_view_module_version": "1.5.0",
            "_view_name": "HBoxView",
            "box_style": "",
            "children": [
              "IPY_MODEL_9b012ba2baef4226bbaf8ec27c5d2ad7",
              "IPY_MODEL_d11f6f24cfb641d29a72363b8b886276",
              "IPY_MODEL_9a1369ac47454d239560836d3dab15d3"
            ],
            "layout": "IPY_MODEL_2549613acd1e4bcead00b2b2ca639428"
          }
        },
        "9b012ba2baef4226bbaf8ec27c5d2ad7": {
          "model_module": "@jupyter-widgets/controls",
          "model_name": "HTMLModel",
          "model_module_version": "1.5.0",
          "state": {
            "_dom_classes": [],
            "_model_module": "@jupyter-widgets/controls",
            "_model_module_version": "1.5.0",
            "_model_name": "HTMLModel",
            "_view_count": null,
            "_view_module": "@jupyter-widgets/controls",
            "_view_module_version": "1.5.0",
            "_view_name": "HTMLView",
            "description": "",
            "description_tooltip": null,
            "layout": "IPY_MODEL_abc5a42267664604bf63c6feb39a2cef",
            "placeholder": "​",
            "style": "IPY_MODEL_8a23a0559fb54783914afea9afae3164",
            "value": "config.json: 100%"
          }
        },
        "d11f6f24cfb641d29a72363b8b886276": {
          "model_module": "@jupyter-widgets/controls",
          "model_name": "FloatProgressModel",
          "model_module_version": "1.5.0",
          "state": {
            "_dom_classes": [],
            "_model_module": "@jupyter-widgets/controls",
            "_model_module_version": "1.5.0",
            "_model_name": "FloatProgressModel",
            "_view_count": null,
            "_view_module": "@jupyter-widgets/controls",
            "_view_module_version": "1.5.0",
            "_view_name": "ProgressView",
            "bar_style": "success",
            "description": "",
            "description_tooltip": null,
            "layout": "IPY_MODEL_fad8f6e9a3fc4d2da733b2529280b339",
            "max": 570,
            "min": 0,
            "orientation": "horizontal",
            "style": "IPY_MODEL_7bfb9765b11a449b981eceeb95a6dc05",
            "value": 570
          }
        },
        "9a1369ac47454d239560836d3dab15d3": {
          "model_module": "@jupyter-widgets/controls",
          "model_name": "HTMLModel",
          "model_module_version": "1.5.0",
          "state": {
            "_dom_classes": [],
            "_model_module": "@jupyter-widgets/controls",
            "_model_module_version": "1.5.0",
            "_model_name": "HTMLModel",
            "_view_count": null,
            "_view_module": "@jupyter-widgets/controls",
            "_view_module_version": "1.5.0",
            "_view_name": "HTMLView",
            "description": "",
            "description_tooltip": null,
            "layout": "IPY_MODEL_2962aabf6e4940759cd2a5ede07e6825",
            "placeholder": "​",
            "style": "IPY_MODEL_c7aa8ef40ec348c6a995bae894552ddd",
            "value": " 570/570 [00:00&lt;00:00, 28.2kB/s]"
          }
        },
        "2549613acd1e4bcead00b2b2ca639428": {
          "model_module": "@jupyter-widgets/base",
          "model_name": "LayoutModel",
          "model_module_version": "1.2.0",
          "state": {
            "_model_module": "@jupyter-widgets/base",
            "_model_module_version": "1.2.0",
            "_model_name": "LayoutModel",
            "_view_count": null,
            "_view_module": "@jupyter-widgets/base",
            "_view_module_version": "1.2.0",
            "_view_name": "LayoutView",
            "align_content": null,
            "align_items": null,
            "align_self": null,
            "border": null,
            "bottom": null,
            "display": null,
            "flex": null,
            "flex_flow": null,
            "grid_area": null,
            "grid_auto_columns": null,
            "grid_auto_flow": null,
            "grid_auto_rows": null,
            "grid_column": null,
            "grid_gap": null,
            "grid_row": null,
            "grid_template_areas": null,
            "grid_template_columns": null,
            "grid_template_rows": null,
            "height": null,
            "justify_content": null,
            "justify_items": null,
            "left": null,
            "margin": null,
            "max_height": null,
            "max_width": null,
            "min_height": null,
            "min_width": null,
            "object_fit": null,
            "object_position": null,
            "order": null,
            "overflow": null,
            "overflow_x": null,
            "overflow_y": null,
            "padding": null,
            "right": null,
            "top": null,
            "visibility": null,
            "width": null
          }
        },
        "abc5a42267664604bf63c6feb39a2cef": {
          "model_module": "@jupyter-widgets/base",
          "model_name": "LayoutModel",
          "model_module_version": "1.2.0",
          "state": {
            "_model_module": "@jupyter-widgets/base",
            "_model_module_version": "1.2.0",
            "_model_name": "LayoutModel",
            "_view_count": null,
            "_view_module": "@jupyter-widgets/base",
            "_view_module_version": "1.2.0",
            "_view_name": "LayoutView",
            "align_content": null,
            "align_items": null,
            "align_self": null,
            "border": null,
            "bottom": null,
            "display": null,
            "flex": null,
            "flex_flow": null,
            "grid_area": null,
            "grid_auto_columns": null,
            "grid_auto_flow": null,
            "grid_auto_rows": null,
            "grid_column": null,
            "grid_gap": null,
            "grid_row": null,
            "grid_template_areas": null,
            "grid_template_columns": null,
            "grid_template_rows": null,
            "height": null,
            "justify_content": null,
            "justify_items": null,
            "left": null,
            "margin": null,
            "max_height": null,
            "max_width": null,
            "min_height": null,
            "min_width": null,
            "object_fit": null,
            "object_position": null,
            "order": null,
            "overflow": null,
            "overflow_x": null,
            "overflow_y": null,
            "padding": null,
            "right": null,
            "top": null,
            "visibility": null,
            "width": null
          }
        },
        "8a23a0559fb54783914afea9afae3164": {
          "model_module": "@jupyter-widgets/controls",
          "model_name": "DescriptionStyleModel",
          "model_module_version": "1.5.0",
          "state": {
            "_model_module": "@jupyter-widgets/controls",
            "_model_module_version": "1.5.0",
            "_model_name": "DescriptionStyleModel",
            "_view_count": null,
            "_view_module": "@jupyter-widgets/base",
            "_view_module_version": "1.2.0",
            "_view_name": "StyleView",
            "description_width": ""
          }
        },
        "fad8f6e9a3fc4d2da733b2529280b339": {
          "model_module": "@jupyter-widgets/base",
          "model_name": "LayoutModel",
          "model_module_version": "1.2.0",
          "state": {
            "_model_module": "@jupyter-widgets/base",
            "_model_module_version": "1.2.0",
            "_model_name": "LayoutModel",
            "_view_count": null,
            "_view_module": "@jupyter-widgets/base",
            "_view_module_version": "1.2.0",
            "_view_name": "LayoutView",
            "align_content": null,
            "align_items": null,
            "align_self": null,
            "border": null,
            "bottom": null,
            "display": null,
            "flex": null,
            "flex_flow": null,
            "grid_area": null,
            "grid_auto_columns": null,
            "grid_auto_flow": null,
            "grid_auto_rows": null,
            "grid_column": null,
            "grid_gap": null,
            "grid_row": null,
            "grid_template_areas": null,
            "grid_template_columns": null,
            "grid_template_rows": null,
            "height": null,
            "justify_content": null,
            "justify_items": null,
            "left": null,
            "margin": null,
            "max_height": null,
            "max_width": null,
            "min_height": null,
            "min_width": null,
            "object_fit": null,
            "object_position": null,
            "order": null,
            "overflow": null,
            "overflow_x": null,
            "overflow_y": null,
            "padding": null,
            "right": null,
            "top": null,
            "visibility": null,
            "width": null
          }
        },
        "7bfb9765b11a449b981eceeb95a6dc05": {
          "model_module": "@jupyter-widgets/controls",
          "model_name": "ProgressStyleModel",
          "model_module_version": "1.5.0",
          "state": {
            "_model_module": "@jupyter-widgets/controls",
            "_model_module_version": "1.5.0",
            "_model_name": "ProgressStyleModel",
            "_view_count": null,
            "_view_module": "@jupyter-widgets/base",
            "_view_module_version": "1.2.0",
            "_view_name": "StyleView",
            "bar_color": null,
            "description_width": ""
          }
        },
        "2962aabf6e4940759cd2a5ede07e6825": {
          "model_module": "@jupyter-widgets/base",
          "model_name": "LayoutModel",
          "model_module_version": "1.2.0",
          "state": {
            "_model_module": "@jupyter-widgets/base",
            "_model_module_version": "1.2.0",
            "_model_name": "LayoutModel",
            "_view_count": null,
            "_view_module": "@jupyter-widgets/base",
            "_view_module_version": "1.2.0",
            "_view_name": "LayoutView",
            "align_content": null,
            "align_items": null,
            "align_self": null,
            "border": null,
            "bottom": null,
            "display": null,
            "flex": null,
            "flex_flow": null,
            "grid_area": null,
            "grid_auto_columns": null,
            "grid_auto_flow": null,
            "grid_auto_rows": null,
            "grid_column": null,
            "grid_gap": null,
            "grid_row": null,
            "grid_template_areas": null,
            "grid_template_columns": null,
            "grid_template_rows": null,
            "height": null,
            "justify_content": null,
            "justify_items": null,
            "left": null,
            "margin": null,
            "max_height": null,
            "max_width": null,
            "min_height": null,
            "min_width": null,
            "object_fit": null,
            "object_position": null,
            "order": null,
            "overflow": null,
            "overflow_x": null,
            "overflow_y": null,
            "padding": null,
            "right": null,
            "top": null,
            "visibility": null,
            "width": null
          }
        },
        "c7aa8ef40ec348c6a995bae894552ddd": {
          "model_module": "@jupyter-widgets/controls",
          "model_name": "DescriptionStyleModel",
          "model_module_version": "1.5.0",
          "state": {
            "_model_module": "@jupyter-widgets/controls",
            "_model_module_version": "1.5.0",
            "_model_name": "DescriptionStyleModel",
            "_view_count": null,
            "_view_module": "@jupyter-widgets/base",
            "_view_module_version": "1.2.0",
            "_view_name": "StyleView",
            "description_width": ""
          }
        }
      }
    },
    "accelerator": "GPU"
  },
  "cells": [
    {
      "cell_type": "code",
      "source": [
        "device='cuda'"
      ],
      "metadata": {
        "id": "S3HvqYE8FAfw"
      },
      "execution_count": 1,
      "outputs": []
    },
    {
      "cell_type": "markdown",
      "source": [
        "## Import Packages"
      ],
      "metadata": {
        "id": "A8S-UDHRLitr"
      }
    },
    {
      "cell_type": "code",
      "execution_count": 2,
      "metadata": {
        "colab": {
          "base_uri": "https://localhost:8080/"
        },
        "id": "-P_-N0-vKNbQ",
        "outputId": "471fe93a-1343-42b5-8742-aa30724b342f"
      },
      "outputs": [
        {
          "output_type": "stream",
          "name": "stdout",
          "text": [
            "Collecting coremltools\n",
            "  Downloading coremltools-7.2-cp310-none-manylinux1_x86_64.whl (1.9 MB)\n",
            "\u001b[?25l     \u001b[90m━━━━━━━━━━━━━━━━━━━━━━━━━━━━━━━━━━━━━━━━\u001b[0m \u001b[32m0.0/1.9 MB\u001b[0m \u001b[31m?\u001b[0m eta \u001b[36m-:--:--\u001b[0m\r\u001b[2K     \u001b[91m━\u001b[0m\u001b[91m╸\u001b[0m\u001b[90m━━━━━━━━━━━━━━━━━━━━━━━━━━━━━━━━━━━━━━\u001b[0m \u001b[32m0.1/1.9 MB\u001b[0m \u001b[31m2.2 MB/s\u001b[0m eta \u001b[36m0:00:01\u001b[0m\r\u001b[2K     \u001b[91m━━━━━━━━━━━━━━━━━━━━━━━━━━━━━━\u001b[0m\u001b[91m╸\u001b[0m\u001b[90m━━━━━━━━━\u001b[0m \u001b[32m1.4/1.9 MB\u001b[0m \u001b[31m20.2 MB/s\u001b[0m eta \u001b[36m0:00:01\u001b[0m\r\u001b[2K     \u001b[90m━━━━━━━━━━━━━━━━━━━━━━━━━━━━━━━━━━━━━━━━\u001b[0m \u001b[32m1.9/1.9 MB\u001b[0m \u001b[31m17.7 MB/s\u001b[0m eta \u001b[36m0:00:00\u001b[0m\n",
            "\u001b[?25hRequirement already satisfied: numpy>=1.14.5 in /usr/local/lib/python3.10/dist-packages (from coremltools) (1.25.2)\n",
            "Requirement already satisfied: protobuf<=4.0.0,>=3.1.0 in /usr/local/lib/python3.10/dist-packages (from coremltools) (3.20.3)\n",
            "Requirement already satisfied: sympy in /usr/local/lib/python3.10/dist-packages (from coremltools) (1.12)\n",
            "Requirement already satisfied: tqdm in /usr/local/lib/python3.10/dist-packages (from coremltools) (4.66.4)\n",
            "Requirement already satisfied: packaging in /usr/local/lib/python3.10/dist-packages (from coremltools) (24.0)\n",
            "Requirement already satisfied: attrs>=21.3.0 in /usr/local/lib/python3.10/dist-packages (from coremltools) (23.2.0)\n",
            "Collecting cattrs (from coremltools)\n",
            "  Downloading cattrs-23.2.3-py3-none-any.whl (57 kB)\n",
            "\u001b[2K     \u001b[90m━━━━━━━━━━━━━━━━━━━━━━━━━━━━━━━━━━━━━━━━\u001b[0m \u001b[32m57.5/57.5 kB\u001b[0m \u001b[31m3.9 MB/s\u001b[0m eta \u001b[36m0:00:00\u001b[0m\n",
            "\u001b[?25hCollecting pyaml (from coremltools)\n",
            "  Downloading pyaml-24.4.0-py3-none-any.whl (24 kB)\n",
            "Requirement already satisfied: exceptiongroup>=1.1.1 in /usr/local/lib/python3.10/dist-packages (from cattrs->coremltools) (1.2.1)\n",
            "Requirement already satisfied: typing-extensions!=4.6.3,>=4.1.0 in /usr/local/lib/python3.10/dist-packages (from cattrs->coremltools) (4.11.0)\n",
            "Requirement already satisfied: PyYAML in /usr/local/lib/python3.10/dist-packages (from pyaml->coremltools) (6.0.1)\n",
            "Requirement already satisfied: mpmath>=0.19 in /usr/local/lib/python3.10/dist-packages (from sympy->coremltools) (1.3.0)\n",
            "Installing collected packages: pyaml, cattrs, coremltools\n",
            "Successfully installed cattrs-23.2.3 coremltools-7.2 pyaml-24.4.0\n"
          ]
        }
      ],
      "source": [
        "!pip install coremltools"
      ]
    },
    {
      "cell_type": "code",
      "source": [
        "import os\n",
        "import json\n",
        "import numpy as np\n",
        "from google.colab import drive\n",
        "from torchvision.models import vit_b_32, ViT_B_32_Weights\n",
        "from transformers import BertTokenizer\n",
        "import torch\n",
        "import torch.nn as nn\n",
        "import torch.nn.functional as F\n",
        "from torchvision import transforms\n",
        "import coremltools as ct"
      ],
      "metadata": {
        "colab": {
          "base_uri": "https://localhost:8080/"
        },
        "id": "aURU4PIuKTKP",
        "outputId": "c517a7f5-7f6b-48bc-80a9-dfce6ad3b20f"
      },
      "execution_count": 3,
      "outputs": [
        {
          "output_type": "stream",
          "name": "stderr",
          "text": [
            "WARNING:coremltools:scikit-learn version 1.2.2 is not supported. Minimum required version: 0.17. Maximum required version: 1.1.2. Disabling scikit-learn conversion API.\n",
            "WARNING:coremltools:XGBoost version 2.0.3 has not been tested with coremltools. You may run into unexpected errors. XGBoost 1.4.2 is the most recent version that has been tested.\n",
            "WARNING:coremltools:TensorFlow version 2.15.0 has not been tested with coremltools. You may run into unexpected errors. TensorFlow 2.12.0 is the most recent version that has been tested.\n",
            "WARNING:coremltools:Torch version 2.3.0+cu121 has not been tested with coremltools. You may run into unexpected errors. Torch 2.2.0 is the most recent version that has been tested.\n",
            "WARNING:coremltools:Failed to load _MLModelProxy: No module named 'coremltools.libcoremlpython'\n"
          ]
        }
      ]
    },
    {
      "cell_type": "code",
      "source": [
        "drive.mount('/content/drive')"
      ],
      "metadata": {
        "colab": {
          "base_uri": "https://localhost:8080/"
        },
        "id": "tNXHHdYhKVFZ",
        "outputId": "86926554-f7e2-412d-9c13-19b99d1c522c"
      },
      "execution_count": 4,
      "outputs": [
        {
          "output_type": "stream",
          "name": "stdout",
          "text": [
            "Mounted at /content/drive\n"
          ]
        }
      ]
    },
    {
      "cell_type": "markdown",
      "source": [
        "## Convert Encoder"
      ],
      "metadata": {
        "id": "LbHae0AhLnDR"
      }
    },
    {
      "cell_type": "markdown",
      "source": [
        "1. Create a wrapped model"
      ],
      "metadata": {
        "id": "P8AhbSRYONmc"
      }
    },
    {
      "cell_type": "code",
      "source": [
        "weights = ViT_B_32_Weights.DEFAULT\n",
        "encoder = vit_b_32(weights=weights)\n",
        "encoder.heads = torch.nn.Identity()\n",
        "preprocess = weights.transforms()"
      ],
      "metadata": {
        "id": "Vk9uUOJsKXzj"
      },
      "execution_count": 21,
      "outputs": []
    },
    {
      "cell_type": "code",
      "source": [
        "preprocess = transforms.Compose([\n",
        "    transforms.Normalize(mean=[0.485, 0.456, 0.406], std=[0.229, 0.224, 0.225])\n",
        "])\n",
        "\n",
        "class WrappedEncoder(nn.Module):\n",
        "  def __init__(self, encoder):\n",
        "    super(WrappedEncoder, self).__init__()\n",
        "    self.encoder = encoder\n",
        "\n",
        "\n",
        "\n",
        "  def forward(self, x):\n",
        "    x = preprocess(x)\n",
        "    output = self.encoder(x)\n",
        "    output = output.repeat(32, 1)\n",
        "    output = output.unsqueeze(0)\n",
        "    return output\n",
        "\n",
        "iOS_Encoder = WrappedEncoder(encoder)"
      ],
      "metadata": {
        "id": "5lpPsAlYMkJN"
      },
      "execution_count": 15,
      "outputs": []
    },
    {
      "cell_type": "markdown",
      "source": [
        "2. Trace the wrapped model with an example input"
      ],
      "metadata": {
        "id": "r7a_fW46ORRi"
      }
    },
    {
      "cell_type": "code",
      "source": [
        "traced_encoder_model = torch.jit.trace(iOS_Encoder, torch.rand(1, 3, 224, 224))"
      ],
      "metadata": {
        "id": "PRPvV6FmMmDE"
      },
      "execution_count": 16,
      "outputs": []
    },
    {
      "cell_type": "markdown",
      "source": [
        "3. Convert the traced model into a CoreML model"
      ],
      "metadata": {
        "id": "T1vpvRnoOTYN"
      }
    },
    {
      "cell_type": "code",
      "source": [
        "encoder_model = ct.convert(\n",
        "    traced_encoder_model,\n",
        "    inputs=[ct.ImageType(shape=(1, 3, 224, 224), scale=1/255)],\n",
        ")\n",
        "\n",
        "encoder_model.save(\"VIT_iOS_Encoder_v3.mlpackage\")"
      ],
      "metadata": {
        "id": "Co7F2vu0LB8y",
        "colab": {
          "base_uri": "https://localhost:8080/"
        },
        "outputId": "bdfa7e19-3a4b-4c4a-a7c8-e7c1d1432750"
      },
      "execution_count": 19,
      "outputs": [
        {
          "output_type": "stream",
          "name": "stderr",
          "text": [
            "WARNING:coremltools:When both 'convert_to' and 'minimum_deployment_target' not specified, 'convert_to' is set to \"mlprogram\" and 'minimum_deployment_target' is set to ct.target.iOS15 (which is same as ct.target.macOS12). Note: the model will not run on systems older than iOS15/macOS12/watchOS8/tvOS15. In order to make your model run on older system, please set the 'minimum_deployment_target' to iOS14/iOS13. Details please see the link: https://apple.github.io/coremltools/docs-guides/source/target-conversion-formats.html\n",
            "WARNING:coremltools:Model is not in eval mode. Consider calling '.eval()' on your model prior to conversion\n",
            "Converting PyTorch Frontend ==> MIL Ops: 100%|█████████▉| 1006/1007 [00:01<00:00, 709.27 ops/s]\n",
            "Running MIL frontend_pytorch pipeline: 100%|██████████| 5/5 [00:00<00:00, 26.85 passes/s]\n",
            "Running MIL default pipeline:  13%|█▎        | 10/78 [00:00<00:02, 30.24 passes/s]/usr/local/lib/python3.10/dist-packages/coremltools/converters/mil/mil/passes/defs/preprocess.py:238: UserWarning: Input, 'x.1', of the source model, has been renamed to 'x_1' in the Core ML model.\n",
            "  warnings.warn(msg.format(var.name, new_name))\n",
            "/usr/local/lib/python3.10/dist-packages/coremltools/converters/mil/mil/passes/defs/preprocess.py:266: UserWarning: Output, '1271', of the source model, has been renamed to 'var_1271' in the Core ML model.\n",
            "  warnings.warn(msg.format(var.name, new_name))\n",
            "Running MIL default pipeline: 100%|██████████| 78/78 [00:06<00:00, 11.58 passes/s]\n",
            "Running MIL backend_mlprogram pipeline: 100%|██████████| 12/12 [00:00<00:00, 60.03 passes/s]\n"
          ]
        }
      ]
    },
    {
      "cell_type": "markdown",
      "source": [
        "You can download the model file much faster by moving it to google drive and downloaind from there."
      ],
      "metadata": {
        "id": "h3WF7SdGFWZC"
      }
    },
    {
      "cell_type": "code",
      "source": [
        "!zip -r VIT_iOS_Encoder_v3.zip VIT_iOS_Encoder_v3.mlpackage\n",
        "!cp VIT_iOS_Encoder_v3.zip /content/drive/MyDrive/"
      ],
      "metadata": {
        "id": "huaEJaDLLhUZ",
        "colab": {
          "base_uri": "https://localhost:8080/"
        },
        "outputId": "06e656d8-9d80-4056-c6ab-ed85bf55e901"
      },
      "execution_count": 20,
      "outputs": [
        {
          "output_type": "stream",
          "name": "stdout",
          "text": [
            "  adding: VIT_iOS_Encoder_v3.mlpackage/ (stored 0%)\n",
            "  adding: VIT_iOS_Encoder_v3.mlpackage/Manifest.json (deflated 60%)\n",
            "  adding: VIT_iOS_Encoder_v3.mlpackage/Data/ (stored 0%)\n",
            "  adding: VIT_iOS_Encoder_v3.mlpackage/Data/com.apple.CoreML/ (stored 0%)\n",
            "  adding: VIT_iOS_Encoder_v3.mlpackage/Data/com.apple.CoreML/model.mlmodel (deflated 89%)\n",
            "  adding: VIT_iOS_Encoder_v3.mlpackage/Data/com.apple.CoreML/weights/ (stored 0%)\n",
            "  adding: VIT_iOS_Encoder_v3.mlpackage/Data/com.apple.CoreML/weights/weight.bin (deflated 7%)\n"
          ]
        }
      ]
    },
    {
      "cell_type": "markdown",
      "source": [
        "## Convert Decoder"
      ],
      "metadata": {
        "id": "4lCrI_SnLowa"
      }
    },
    {
      "cell_type": "markdown",
      "source": [
        "### Define structure of the decoder and load it with weights"
      ],
      "metadata": {
        "id": "f6W6rti2WUUb"
      }
    },
    {
      "cell_type": "code",
      "source": [
        "def create_positional_encoding(max_length, d_model):\n",
        "  pos = torch.arange(0, max_length).unsqueeze(1) # (max_length, 1)\n",
        "  pos_expanded = pos.repeat(1, d_model // 2) # (max_length, d_model // 2)\n",
        "  power = torch.arange(0, d_model, 2).float() / d_model\n",
        "  div_term = torch.pow(10000, power).unsqueeze(0) # (1, d_model // 2)\n",
        "  div_term_expanded = div_term.repeat(max_length, 1)  # (max_length, d_model // 2)\n",
        "\n",
        "  pe = torch.zeros(max_length, d_model) # (max_length, d_model)\n",
        "  pe[:, 0::2] = torch.sin(pos_expanded / div_term_expanded) # (max_length, d_model // 2)\n",
        "  pe[:, 1::2] = torch.cos(pos_expanded / div_term_expanded) # (max_length, d_model // 2)\n",
        "\n",
        "  return pe"
      ],
      "metadata": {
        "id": "HMmPr7uAia2e"
      },
      "execution_count": 22,
      "outputs": []
    },
    {
      "cell_type": "code",
      "source": [
        "class Embedding(nn.Module):\n",
        "  def __init__(self, vocab_size, max_length, d_model):\n",
        "    super(Embedding, self).__init__()\n",
        "    self.embedding = nn.Embedding(num_embeddings=vocab_size, embedding_dim=d_model)\n",
        "    self.pos_encoding = create_positional_encoding(max_length, d_model).to(device)\n",
        "\n",
        "  def forward(self, x):\n",
        "    \"\"\" Apply embedding and positional encoding to the input\n",
        "\n",
        "    Input:\n",
        "      x: (N, seq_length)\n",
        "    Output:\n",
        "      x: (N, seq_length, d_model)\n",
        "    \"\"\"\n",
        "    # apply embedding\n",
        "    x = self.embedding(x)\n",
        "    # apply positional encoding\n",
        "    x += self.pos_encoding[:x.size(1)]\n",
        "    return x"
      ],
      "metadata": {
        "id": "CKNkLA08dE51"
      },
      "execution_count": 23,
      "outputs": []
    },
    {
      "cell_type": "code",
      "source": [
        "mask_size = 32\n",
        "causal_mask = torch.zeros(mask_size, mask_size)\n",
        "for i in range(mask_size):\n",
        "    for j in range(mask_size):\n",
        "        if i < j:\n",
        "            causal_mask[i, j] = float('-inf')\n",
        "\n",
        "\n",
        "causal_mask = causal_mask.to(device)\n",
        "print(causal_mask)"
      ],
      "metadata": {
        "colab": {
          "base_uri": "https://localhost:8080/"
        },
        "id": "0rDJy1IuIKhc",
        "outputId": "99335eb3-cc1d-4c9a-a819-0147f01dad25"
      },
      "execution_count": 24,
      "outputs": [
        {
          "output_type": "stream",
          "name": "stdout",
          "text": [
            "tensor([[0., -inf, -inf,  ..., -inf, -inf, -inf],\n",
            "        [0., 0., -inf,  ..., -inf, -inf, -inf],\n",
            "        [0., 0., 0.,  ..., -inf, -inf, -inf],\n",
            "        ...,\n",
            "        [0., 0., 0.,  ..., 0., -inf, -inf],\n",
            "        [0., 0., 0.,  ..., 0., 0., -inf],\n",
            "        [0., 0., 0.,  ..., 0., 0., 0.]], device='cuda:0')\n"
          ]
        }
      ]
    },
    {
      "cell_type": "code",
      "source": [
        "class CausalSelfAttention(nn.Module):\n",
        "  def __init__(self, d_model, num_heads, dropout):\n",
        "    super(CausalSelfAttention, self).__init__()\n",
        "    self.mha = nn.MultiheadAttention(embed_dim=d_model, num_heads=num_heads, dropout=dropout, batch_first=True)\n",
        "    self.layer_norm = nn.LayerNorm(d_model)\n",
        "\n",
        "\n",
        "  def forward(self, x):\n",
        "    attn_output, _ = self.mha(query=x, key=x, value=x, attn_mask=causal_mask, is_causal=True)\n",
        "    x = self.layer_norm(x + attn_output)\n",
        "    return x"
      ],
      "metadata": {
        "id": "T0PqEjGhibze"
      },
      "execution_count": 25,
      "outputs": []
    },
    {
      "cell_type": "code",
      "source": [
        "class CrossAttention(nn.Module):\n",
        "  def __init__(self, d_model, num_heads, dropout):\n",
        "    super(CrossAttention, self).__init__()\n",
        "    self.mha = nn.MultiheadAttention(embed_dim=d_model, num_heads=num_heads, dropout=dropout, batch_first=True)\n",
        "    self.layer_norm = nn.LayerNorm(d_model)\n",
        "\n",
        "\n",
        "  def forward(self, x, image_embedding):\n",
        "    attn_output, _ = self.mha(query=x, key=image_embedding, value=image_embedding)\n",
        "    x = self.layer_norm(x + attn_output)\n",
        "    return x"
      ],
      "metadata": {
        "id": "w5GnvmRxoSuI"
      },
      "execution_count": 26,
      "outputs": []
    },
    {
      "cell_type": "code",
      "source": [
        "class FeedForward(nn.Module):\n",
        "  def __init__(self, d_model, dropout):\n",
        "    super(FeedForward, self).__init__()\n",
        "    self.seq = nn.ModuleList([\n",
        "        nn.Linear(d_model, 2 * d_model),\n",
        "        nn.ReLU(),\n",
        "        nn.Linear(2 * d_model, d_model),\n",
        "        nn.Dropout(dropout)\n",
        "    ])\n",
        "\n",
        "    self.layernorm = nn.LayerNorm(d_model)\n",
        "\n",
        "  def forward(self, x):\n",
        "    original_x = x\n",
        "    for layer in self.seq:\n",
        "      x = layer(x)\n",
        "    out = x + original_x\n",
        "    return self.layernorm(out)"
      ],
      "metadata": {
        "id": "dm6R8vejD94i"
      },
      "execution_count": 27,
      "outputs": []
    },
    {
      "cell_type": "code",
      "source": [
        "class DecoderLayer(nn.Module):\n",
        "  def __init__(self, d_model, num_heads, dropout):\n",
        "    super(DecoderLayer, self).__init__()\n",
        "    self.self_attention = CausalSelfAttention(d_model=d_model, num_heads=num_heads, dropout=dropout)\n",
        "    self.cross_attention = CrossAttention(d_model=d_model, num_heads=num_heads, dropout=dropout)\n",
        "    self.ff = FeedForward(d_model=d_model, dropout=dropout)\n",
        "\n",
        "  def forward(self, inputs):\n",
        "    x, image_embedding = inputs\n",
        "    x = self.self_attention(x)\n",
        "    x = self.cross_attention(x, image_embedding)\n",
        "    x = self.ff(x)\n",
        "    return x"
      ],
      "metadata": {
        "id": "PXWu5XkrIMal"
      },
      "execution_count": 28,
      "outputs": []
    },
    {
      "cell_type": "code",
      "source": [
        "class Lastlayer(nn.Module):\n",
        "  def __init__(self, units, vocab_size):\n",
        "    super(Lastlayer, self).__init__()\n",
        "    self.linear = nn.Linear(units, vocab_size)\n",
        "\n",
        "  def forward(self, x):\n",
        "    x = self.linear(x)\n",
        "    return x"
      ],
      "metadata": {
        "id": "OVA7JGOOUfIw"
      },
      "execution_count": 29,
      "outputs": []
    },
    {
      "cell_type": "code",
      "source": [
        "class Captioner(nn.Module):\n",
        "  def __init__(self, vocab_size, max_length, d_model, num_heads, num_layers, dropout):\n",
        "    super(Captioner, self).__init__()\n",
        "    self.seq_embedding = Embedding(vocab_size, max_length, d_model)\n",
        "    self.decoder_layers = nn.ModuleList([\n",
        "    DecoderLayer(d_model, num_heads, dropout) for _ in range(num_layers)\n",
        "    ])\n",
        "    self.last_layer = Lastlayer(d_model, vocab_size)\n",
        "\n",
        "    self.linear = nn.Linear(768, d_model)\n",
        "\n",
        "  def forward(self, image_embeddings, txt):\n",
        "    \"\"\"\n",
        "    inputs:\n",
        "      txt: (N, max_length)\n",
        "      image_embeddings: (N, 7, 7, 576)\n",
        "    \"\"\"\n",
        "    x = self.seq_embedding(txt) # x: (N, max_length, d_model)\n",
        "    # transform image_embeddings to proper shape\n",
        "    image_embeddings = self.linear(image_embeddings)\n",
        "\n",
        "    for dec_layer in self.decoder_layers:\n",
        "      x = dec_layer((x, image_embeddings))\n",
        "\n",
        "    # x: (N, max_length, units)\n",
        "\n",
        "    x = self.last_layer(x) # (N, max_length, vocab_size)\n",
        "\n",
        "    return x"
      ],
      "metadata": {
        "id": "uN040G-4Newg"
      },
      "execution_count": 30,
      "outputs": []
    },
    {
      "cell_type": "code",
      "source": [
        "tokenizer = BertTokenizer.from_pretrained('bert-base-uncased')\n",
        "model = Captioner(vocab_size = tokenizer.vocab_size, max_length = 32, d_model = 512, num_heads = 8, num_layers=4, dropout = 0.4)"
      ],
      "metadata": {
        "id": "H785By3CY1L-",
        "colab": {
          "base_uri": "https://localhost:8080/",
          "height": 308,
          "referenced_widgets": [
            "265434c4d08340c2ad3a40bfffda7e57",
            "75df31c0cdf648fd8b84bf82f6f0b50d",
            "842eab8c82d64ce69a4862b78744836e",
            "f4d5b0dc67784fb6b8f9de4547530abd",
            "c459212057b14566a00a81e4269e0b64",
            "ad6b4046103a419fb110175509714ade",
            "68b8a680f3c84271ae1b910d12ad430b",
            "2758457a4b244a12a55867483c5755ac",
            "c69ac22683e1484487bee5d0bebfbe9f",
            "c7853ccbd7ed40969c82fe9c90bd2fcd",
            "5e236ddc015f468ab2391dc2e7d1bbce",
            "49b1ca86b082413baf79aaacbf0e3c27",
            "eb0a97d1a1134016a798042b16410fe2",
            "4762213c668e42b7a6f9cfc0a01fa38b",
            "aa2904ba9a214100829fb5901a0fd22b",
            "3334aa615bbf420eaddbec25013733fc",
            "e728a616170b4c6b861f9165cc53167f",
            "8b82216b605d4118a8851fabfaff926f",
            "e748f144f697468eb7ce7587cd631f27",
            "e00d3bceed0a47328de2bcb32c7646c5",
            "e9618d58e7584e608e91a3944bdbf1fd",
            "785c1f9dd0b743758c45d6bfbae7ba24",
            "d435bcaab7ca4beb89df606510179e87",
            "6ba30a04a4b748348514312ca17249e4",
            "311580c22c124c619a0cb71c7e2f8abe",
            "783dae4ec1c44d17bf55ecb9444a7439",
            "18a764fda3ec47bb8a8c4ea3e0816d18",
            "3257444bece6426295bf761530c52701",
            "1e92599d97514c7080b8efe91ca08fb6",
            "358bb3feca374be586d6257e5d23b798",
            "165607f2032944e1a187f4688d5becb9",
            "af663170dc2d40b7bd5413460dca934e",
            "80db78dc92444020b052aaa4e85696c2",
            "f922903d804d42268adbfb50f59e560c",
            "9b012ba2baef4226bbaf8ec27c5d2ad7",
            "d11f6f24cfb641d29a72363b8b886276",
            "9a1369ac47454d239560836d3dab15d3",
            "2549613acd1e4bcead00b2b2ca639428",
            "abc5a42267664604bf63c6feb39a2cef",
            "8a23a0559fb54783914afea9afae3164",
            "fad8f6e9a3fc4d2da733b2529280b339",
            "7bfb9765b11a449b981eceeb95a6dc05",
            "2962aabf6e4940759cd2a5ede07e6825",
            "c7aa8ef40ec348c6a995bae894552ddd"
          ]
        },
        "outputId": "7fb1cb72-b5f7-41ca-bc96-6b109ed5d52b",
        "collapsed": true
      },
      "execution_count": 31,
      "outputs": [
        {
          "output_type": "stream",
          "name": "stderr",
          "text": [
            "/usr/local/lib/python3.10/dist-packages/huggingface_hub/utils/_token.py:89: UserWarning: \n",
            "The secret `HF_TOKEN` does not exist in your Colab secrets.\n",
            "To authenticate with the Hugging Face Hub, create a token in your settings tab (https://huggingface.co/settings/tokens), set it as secret in your Google Colab and restart your session.\n",
            "You will be able to reuse this secret in all of your notebooks.\n",
            "Please note that authentication is recommended but still optional to access public models or datasets.\n",
            "  warnings.warn(\n"
          ]
        },
        {
          "output_type": "display_data",
          "data": {
            "text/plain": [
              "tokenizer_config.json:   0%|          | 0.00/48.0 [00:00<?, ?B/s]"
            ],
            "application/vnd.jupyter.widget-view+json": {
              "version_major": 2,
              "version_minor": 0,
              "model_id": "265434c4d08340c2ad3a40bfffda7e57"
            }
          },
          "metadata": {}
        },
        {
          "output_type": "display_data",
          "data": {
            "text/plain": [
              "vocab.txt:   0%|          | 0.00/232k [00:00<?, ?B/s]"
            ],
            "application/vnd.jupyter.widget-view+json": {
              "version_major": 2,
              "version_minor": 0,
              "model_id": "49b1ca86b082413baf79aaacbf0e3c27"
            }
          },
          "metadata": {}
        },
        {
          "output_type": "display_data",
          "data": {
            "text/plain": [
              "tokenizer.json:   0%|          | 0.00/466k [00:00<?, ?B/s]"
            ],
            "application/vnd.jupyter.widget-view+json": {
              "version_major": 2,
              "version_minor": 0,
              "model_id": "d435bcaab7ca4beb89df606510179e87"
            }
          },
          "metadata": {}
        },
        {
          "output_type": "stream",
          "name": "stderr",
          "text": [
            "/usr/local/lib/python3.10/dist-packages/huggingface_hub/file_download.py:1132: FutureWarning: `resume_download` is deprecated and will be removed in version 1.0.0. Downloads always resume when possible. If you want to force a new download, use `force_download=True`.\n",
            "  warnings.warn(\n"
          ]
        },
        {
          "output_type": "display_data",
          "data": {
            "text/plain": [
              "config.json:   0%|          | 0.00/570 [00:00<?, ?B/s]"
            ],
            "application/vnd.jupyter.widget-view+json": {
              "version_major": 2,
              "version_minor": 0,
              "model_id": "f922903d804d42268adbfb50f59e560c"
            }
          },
          "metadata": {}
        }
      ]
    },
    {
      "cell_type": "code",
      "source": [
        "checkpoint_path = '/content/drive/MyDrive/checkpoint_epoch_0_batch_2400.pth'\n",
        "checkpoint = torch.load(checkpoint_path, map_location=torch.device('cpu'))\n",
        "model_state_dict = checkpoint['model_state_dict']\n",
        "model.load_state_dict(model_state_dict)"
      ],
      "metadata": {
        "colab": {
          "base_uri": "https://localhost:8080/"
        },
        "id": "cxZY3PXkskP5",
        "outputId": "79cf5e67-f49b-44e6-e278-c3a4cda6d323"
      },
      "execution_count": 32,
      "outputs": [
        {
          "output_type": "execute_result",
          "data": {
            "text/plain": [
              "<All keys matched successfully>"
            ]
          },
          "metadata": {},
          "execution_count": 32
        }
      ]
    },
    {
      "cell_type": "markdown",
      "source": [
        "### Convert Decoder to CoreML model"
      ],
      "metadata": {
        "id": "xXS76Y2xEbLV"
      }
    },
    {
      "cell_type": "markdown",
      "source": [
        "1. Create a wrapped model.\n",
        "\n",
        "The wrapped model will only apply softmax to output of decoder, the process of slicing and picking index with highest element will happen on Swift."
      ],
      "metadata": {
        "id": "JqcGUMdXNp0U"
      }
    },
    {
      "cell_type": "code",
      "source": [
        "class WrappedDecoder(nn.Module):\n",
        "  def __init__(self, decoder):\n",
        "    super().__init__()\n",
        "    self.decoder = decoder\n",
        "\n",
        "  def forward(self, image_embeddings, txt):\n",
        "    logit = self.decoder(image_embeddings, txt)\n",
        "    pred = F.softmax(logit, dim=-1)\n",
        "    return pred"
      ],
      "metadata": {
        "id": "Zc2diMNiL_9D"
      },
      "execution_count": 33,
      "outputs": []
    },
    {
      "cell_type": "code",
      "source": [
        "ios_decoder = WrappedDecoder(model).eval()\n",
        "ios_decoder = ios_decoder.to(device)"
      ],
      "metadata": {
        "id": "UqrkaIq4wlxb"
      },
      "execution_count": 36,
      "outputs": []
    },
    {
      "cell_type": "markdown",
      "source": [
        "2. Trace the model with example inputs"
      ],
      "metadata": {
        "id": "cswzBx9wN5JU"
      }
    },
    {
      "cell_type": "code",
      "source": [
        "example_txt_input = torch.randint(low=1, high=30000, size=(1, 32)).to(device)\n",
        "example_image_embedding = torch.rand(1, 32, 768).to(device)\n",
        "traced_decoder_model = torch.jit.trace(ios_decoder, (example_image_embedding, example_txt_input))"
      ],
      "metadata": {
        "id": "EhMcGA1rwmEb"
      },
      "execution_count": 37,
      "outputs": []
    },
    {
      "cell_type": "markdown",
      "source": [
        "3. convert the traced model into a CoreML model and save it"
      ],
      "metadata": {
        "id": "s4txbcGLN8FK"
      }
    },
    {
      "cell_type": "code",
      "source": [
        "decoder_model = ct.convert(\n",
        "    traced_decoder_model,\n",
        "    convert_to=\"mlprogram\",\n",
        "    inputs=[\n",
        "        ct.TensorType(shape=example_image_embedding.shape),\n",
        "        ct.TensorType(shape=example_txt_input.shape),\n",
        "    ]\n",
        ")"
      ],
      "metadata": {
        "colab": {
          "base_uri": "https://localhost:8080/"
        },
        "id": "TN2LrJQSxX7W",
        "outputId": "97d7aab4-690a-42d9-e7c1-7171db5273f3"
      },
      "execution_count": 38,
      "outputs": [
        {
          "output_type": "stream",
          "name": "stderr",
          "text": [
            "Converting PyTorch Frontend ==> MIL Ops: 100%|█████████▉| 614/615 [00:00<00:00, 1148.16 ops/s]\n",
            "Running MIL frontend_pytorch pipeline: 100%|██████████| 5/5 [00:00<00:00, 90.74 passes/s]\n",
            "Running MIL default pipeline:  10%|█         | 8/78 [00:00<00:00, 77.55 passes/s]/usr/local/lib/python3.10/dist-packages/coremltools/converters/mil/mil/passes/defs/preprocess.py:266: UserWarning: Output, '783', of the source model, has been renamed to 'var_783' in the Core ML model.\n",
            "  warnings.warn(msg.format(var.name, new_name))\n",
            "Running MIL default pipeline: 100%|██████████| 78/78 [00:03<00:00, 22.26 passes/s]\n",
            "Running MIL backend_mlprogram pipeline: 100%|██████████| 12/12 [00:00<00:00, 110.38 passes/s]\n"
          ]
        }
      ]
    },
    {
      "cell_type": "code",
      "source": [
        "decoder_model.save(\"iOS_Decoder_V14.mlpackage\")"
      ],
      "metadata": {
        "id": "1dMMV1JSyXQ1"
      },
      "execution_count": 39,
      "outputs": []
    },
    {
      "cell_type": "markdown",
      "source": [
        "You can download the model file much faster by moving it to google drive and downloaind from there."
      ],
      "metadata": {
        "id": "cuMwNZUJOly0"
      }
    },
    {
      "cell_type": "code",
      "source": [
        "!zip -r iOS_Decoder_V14.zip iOS_Decoder_V14.mlpackage\n",
        "!cp iOS_Decoder_V14.zip /content/drive/MyDrive/"
      ],
      "metadata": {
        "colab": {
          "base_uri": "https://localhost:8080/"
        },
        "id": "jnpVvni3zsY0",
        "outputId": "af825ab6-8a40-43e7-eb6f-478e15daa212"
      },
      "execution_count": 40,
      "outputs": [
        {
          "output_type": "stream",
          "name": "stdout",
          "text": [
            "  adding: iOS_Decoder_V14.mlpackage/ (stored 0%)\n",
            "  adding: iOS_Decoder_V14.mlpackage/Manifest.json (deflated 60%)\n",
            "  adding: iOS_Decoder_V14.mlpackage/Data/ (stored 0%)\n",
            "  adding: iOS_Decoder_V14.mlpackage/Data/com.apple.CoreML/ (stored 0%)\n",
            "  adding: iOS_Decoder_V14.mlpackage/Data/com.apple.CoreML/model.mlmodel (deflated 87%)\n",
            "  adding: iOS_Decoder_V14.mlpackage/Data/com.apple.CoreML/weights/ (stored 0%)\n",
            "  adding: iOS_Decoder_V14.mlpackage/Data/com.apple.CoreML/weights/weight.bin (deflated 8%)\n"
          ]
        }
      ]
    },
    {
      "cell_type": "markdown",
      "source": [
        "## Create vocab file"
      ],
      "metadata": {
        "id": "-76dcdHBW-NL"
      }
    },
    {
      "cell_type": "markdown",
      "source": [
        "We need to build index to word json vocab file, so that we can decode tokenized array back to human readale string in our iOS app."
      ],
      "metadata": {
        "id": "FhaEM5nHNfOf"
      }
    },
    {
      "cell_type": "code",
      "source": [
        "tokenizer = BertTokenizer.from_pretrained('bert-base-uncased')\n",
        "vocab = tokenizer.get_vocab()\n",
        "with open('index_to_word.json', 'w') as file:\n",
        "  json.dump({idx: token for token, idx in vocab.items()}, file)"
      ],
      "metadata": {
        "id": "5QmiL7HJ7D5Q"
      },
      "execution_count": 41,
      "outputs": []
    }
  ]
}